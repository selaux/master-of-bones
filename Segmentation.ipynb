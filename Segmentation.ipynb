{
 "worksheets": [
  {
   "cells": [
    {
     "cell_type": "code",
     "metadata": {},
     "outputs": [],
     "input": [
      ""
     ],
     "language": "python"
    },
    {
     "cell_type": "code",
     "metadata": {},
     "outputs": [
      {
       "output_type": "stream",
       "stream": "stdout",
       "text": [
        "Populating the interactive namespace from numpy and matplotlib\n"
       ]
      },
      {
       "output_type": "pyout",
       "prompt_number": 1,
       "text": [
        "<matplotlib.image.AxesImage at 0x7f1c3e3af828>"
       ],
       "metadata": {}
      }
     ],
     "input": [
      "%pylab qt\n",
      "\n",
      "from skimage import io\n",
      "import matplotlib.pyplot as plt\n",
      "\n",
      "filename = '/home/stefan/Cloud/Uni/Master Medieninformatik/Masterarbeit/Daten/2D/Talus_dorsal/GÖ_3_2010_149_L.JPG'\n",
      "talus = io.imread(filename)\n",
      "plt.imshow(talus)"
     ],
     "language": "python",
     "prompt_number": 1
    },
    {
     "cell_type": "code",
     "metadata": {},
     "outputs": [
      {
       "output_type": "stream",
       "stream": "stdout",
       "text": [
        "Populating the interactive namespace from numpy and matplotlib\n"
       ]
      },
      {
       "output_type": "pyout",
       "prompt_number": 3,
       "text": [
        "<matplotlib.image.AxesImage at 0x7f1c2ab59860>"
       ],
       "metadata": {}
      }
     ],
     "input": [
      "%pylab qt\n",
      "\n",
      "from skimage import io\n",
      "from skimage import filter\n",
      "import matplotlib.pyplot as plt\n",
      "\n",
      "filename = '/home/stefan/Cloud/Uni/Master Medieninformatik/Masterarbeit/Daten/2D/Talus_dorsal/GÖ_3_2010_149_L.JPG'\n",
      "talus = io.imread(filename)\n",
      "\n",
      "threshold = filter.threshold_otsu(talus)\n",
      "mask = talus < threshold\n",
      "\n",
      "plt.imshow(mask)"
     ],
     "language": "python",
     "prompt_number": 3
    },
    {
     "cell_type": "code",
     "metadata": {},
     "outputs": [
      {
       "output_type": "stream",
       "stream": "stdout",
       "text": [
        "Populating the interactive namespace from numpy and matplotlib\n",
        "Slic number of segments: 2"
       ]
      },
      {
       "output_type": "stream",
       "stream": "stdout",
       "text": [
        "\n"
       ]
      },
      {
       "output_type": "pyout",
       "prompt_number": 2,
       "text": [
        "<matplotlib.image.AxesImage at 0x7f5e9ab05198>"
       ],
       "metadata": {}
      }
     ],
     "input": [
      "%pylab qt\n",
      "\n",
      "\"\"\"\n",
      "====================================================\n",
      "Comparison of segmentation and superpixel algorithms\n",
      "====================================================\n",
      "\n",
      "This example compares three popular low-level image segmentation methods.  As\n",
      "it is difficult to obtain good segmentations, and the definition of \"good\"\n",
      "often depends on the application, these methods are usually used for obtaining\n",
      "an oversegmentation, also known as superpixels. These superpixels then serve as\n",
      "a basis for more sophisticated algorithms such as conditional random fields\n",
      "(CRF).\n",
      "\n",
      "\n",
      "Felzenszwalb's efficient graph based segmentation\n",
      "-------------------------------------------------\n",
      "This fast 2D image segmentation algorithm, proposed in [1]_ is popular in the\n",
      "computer vision community.\n",
      "The algorithm has a single ``scale`` parameter that influences the segment\n",
      "size. The actual size and number of segments can vary greatly, depending on\n",
      "local contrast.\n",
      "\n",
      ".. [1] Efficient graph-based image segmentation, Felzenszwalb, P.F. and\n",
      "       Huttenlocher, D.P.  International Journal of Computer Vision, 2004\n",
      "\n",
      "\n",
      "Quickshift image segmentation\n",
      "-----------------------------\n",
      "\n",
      "Quickshift is a relatively recent 2D image segmentation algorithm, based on an\n",
      "approximation of kernelized mean-shift. Therefore it belongs to the family of\n",
      "local mode-seeking algorithms and is applied to the 5D space consisting of\n",
      "color information and image location [2]_.\n",
      "\n",
      "One of the benefits of quickshift is that it actually computes a\n",
      "hierarchical segmentation on multiple scales simultaneously.\n",
      "\n",
      "Quickshift has two main parameters: ``sigma`` controls the scale of the local\n",
      "density approximation, ``max_dist`` selects a level in the hierarchical\n",
      "segmentation that is produced. There is also a trade-off between distance in\n",
      "color-space and distance in image-space, given by ``ratio``.\n",
      "\n",
      ".. [2] Quick shift and kernel methods for mode seeking,\n",
      "       Vedaldi, A. and Soatto, S.\n",
      "       European Conference on Computer Vision, 2008\n",
      "\n",
      "\n",
      "SLIC - K-Means based image segmentation\n",
      "---------------------------------------\n",
      "This algorithm simply performs K-means in the 5d space of color information\n",
      "and image location and is therefore closely related to quickshift. As the\n",
      "clustering method is simpler, it is very efficient. It is essential for this\n",
      "algorithm to work in Lab color space to obtain good results.  The algorithm\n",
      "quickly gained momentum and is now widely used. See [3] for details.  The\n",
      "``compactness`` parameter trades off color-similarity and proximity, as in the case\n",
      "of Quickshift, while ``n_segments`` chooses the number of centers for kmeans.\n",
      "\n",
      ".. [3] Radhakrishna Achanta, Appu Shaji, Kevin Smith, Aurelien Lucchi,\n",
      "    Pascal Fua, and Sabine Suesstrunk, SLIC Superpixels Compared to\n",
      "    State-of-the-art Superpixel Methods, TPAMI, May 2012.\n",
      "\"\"\"\n",
      "from __future__ import print_function\n",
      "\n",
      "import matplotlib.pyplot as plt\n",
      "import numpy as np\n",
      "\n",
      "from skimage.data import coins\n",
      "from skimage.segmentation import felzenszwalb, slic, quickshift\n",
      "from skimage.segmentation import mark_boundaries\n",
      "from skimage.util import img_as_float\n",
      "from skimage import io\n",
      "\n",
      "filename = '/home/stefan/tmp/GSR2013-9L.JPG'\n",
      "img = img_as_float(io.imread(filename))\n",
      "\n",
      "#segments_fz = felzenszwalb(img, scale=10000, sigma=0.5, min_size=5000)\n",
      "#print(\"Felzenszwalb's number of segments: %d\" % len(np.unique(segments_fz)))\n",
      "\n",
      "segments_slic = slic(img, n_segments=2, compactness=5, sigma=1)\n",
      "print(\"Slic number of segments: %d\" % len(np.unique(segments_slic)))\n",
      "\n",
      "#segments_quick = quickshift(img, kernel_size=3, max_dist=1000, ratio=0.5)\n",
      "#print(\"Quickshift number of segments: %d\" % len(np.unique(segments_quick)))\n",
      "\n",
      "plt.imshow(mark_boundaries(img, segments_slic))\n",
      "#fig, ax = plt.subplots(1, 3)\n",
      "#fig.set_size_inches(8, 3, forward=True)\n",
      "#fig.subplots_adjust(0.05, 0.05, 0.95, 0.95, 0.05, 0.05)\n",
      "\n",
      "#ax[0].imshow(mark_boundaries(img, segments_fz))\n",
      "#ax[0].set_title(\"Felzenszwalbs's method\")\n",
      "#ax[1].imshow(mark_boundaries(img, segments_slic))\n",
      "#ax[1].set_title(\"SLIC\")\n",
      "#ax[2].imshow(mark_boundaries(img, segments_quick))\n",
      "#ax[2].set_title(\"Quickshift\")\n",
      "#for a in ax:\n",
      "#    a.set_xticks(())\n",
      "#    a.set_yticks(())\n",
      "#plt.show()"
     ],
     "language": "python",
     "prompt_number": 2
    },
    {
     "cell_type": "markdown",
     "metadata": {},
     "source": [
      "## Slic in HSV test"
     ]
    },
    {
     "cell_type": "code",
     "metadata": {},
     "outputs": [
      {
       "output_type": "stream",
       "stream": "stdout",
       "text": [
        "Populating the interactive namespace from numpy and matplotlib\n",
        "Slic number of segments: 2"
       ]
      },
      {
       "output_type": "stream",
       "stream": "stdout",
       "text": [
        "\n",
        "Slic number of segments: 2"
       ]
      },
      {
       "output_type": "stream",
       "stream": "stdout",
       "text": [
        "\n",
        "Slic number of segments: 2"
       ]
      },
      {
       "output_type": "stream",
       "stream": "stdout",
       "text": [
        "\n",
        "Slic number of segments: 2"
       ]
      },
      {
       "output_type": "stream",
       "stream": "stdout",
       "text": [
        "\n",
        "Slic number of segments: 2"
       ]
      },
      {
       "output_type": "stream",
       "stream": "stdout",
       "text": [
        "\n",
        "Slic number of segments: 2"
       ]
      },
      {
       "output_type": "stream",
       "stream": "stdout",
       "text": [
        "\n"
       ]
      }
     ],
     "input": [
      "%pylab qt\n",
      "\n",
      "from skimage import io, color, img_as_ubyte, img_as_float\n",
      "from skimage.segmentation import slic, mark_boundaries\n",
      "import matplotlib.pyplot as plt\n",
      "\n",
      "files = [\n",
      "    {\n",
      "        'description': 'Low Contrast',\n",
      "        'filename': '/home/stefan/Cloud/Uni/Master Medieninformatik/Masterarbeit/Daten/2D/Talus_dorsal/GSR2013-9L.JPG',\n",
      "    },\n",
      "    {\n",
      "        'description': 'Low Contrast with Corrosion',\n",
      "        'filename': '/home/stefan/Cloud/Uni/Master Medieninformatik/Masterarbeit/Daten/2D/Talus_dorsal/GSR2013-44L.JPG',\n",
      "    },\n",
      "    {\n",
      "        'description': 'Very Low Contrast, with Hole',\n",
      "        'filename': '/home/stefan/Cloud/Uni/Master Medieninformatik/Masterarbeit/Daten/2D/Talus_dorsal/MiZ08-465L_11.JPG',\n",
      "    },\n",
      "    {\n",
      "        'description': 'Good Contrast, Blue Background',\n",
      "        'filename': '/home/stefan/Cloud/Uni/Master Medieninformatik/Masterarbeit/Daten/2D/Talus_dorsal/GÖ_3_2000_3_L.JPG',\n",
      "    },\n",
      "    {\n",
      "        'description': 'Dark Bone with Texture',\n",
      "        'filename': '/home/stefan/Cloud/Uni/Master Medieninformatik/Masterarbeit/Daten/2D/Talus_dorsal/GÖ_i_2000_1_L.JPG',\n",
      "    },\n",
      "    {\n",
      "        'description': 'Dark Bone',\n",
      "        'filename': '/home/stefan/Cloud/Uni/Master Medieninformatik/Masterarbeit/Daten/2D/Talus_dorsal/GÖ_p_2013_188L.JPG',\n",
      "    },\n",
      "]\n",
      "\n",
      "for file in files:\n",
      "    rgb_image = io.imread(file['filename'])\n",
      "    hsv_image = color.rgb2hsv(rgb_image)\n",
      "    \n",
      "    rgb_image = img_as_ubyte(rgb_image)\n",
      "    hsv_image = img_as_float(hsv_image)\n",
      "    \n",
      "    segments_slic = slic(hsv_image, n_segments=2, compactness=50, sigma=1)\n",
      "    print(\"Slic number of segments: %d\" % len(np.unique(segments_slic)))\n",
      "    \n",
      "    file['segmentation'] = mark_boundaries(rgb_image, segments_slic);"
     ],
     "language": "python",
     "prompt_number": 3
    },
    {
     "cell_type": "code",
     "metadata": {},
     "outputs": [
      {
       "output_type": "stream",
       "stream": "stdout",
       "text": [
        "Populating the interactive namespace from numpy and matplotlib\n"
       ]
      }
     ],
     "input": [
      "%pylab qt\n",
      "\n",
      "import math\n",
      "\n",
      "fig, ax = plt.subplots(2, 3)\n",
      "for i, file in enumerate(files):\n",
      "    ax[math.floor(i / 3)][i % 3].imshow(file['segmentation'])"
     ],
     "language": "python",
     "prompt_number": 5
    },
    {
     "cell_type": "code",
     "metadata": {},
     "outputs": [],
     "input": [
      ""
     ],
     "language": "python"
    }
   ]
  }
 ],
 "cells": [],
 "metadata": {
  "name": "",
  "signature": "sha256:07e87dc99e08f38172985a3fce83a931e82eee32053905d4d34e075ea5819edf"
 },
 "nbformat": 3,
 "nbformat_minor": 0
}