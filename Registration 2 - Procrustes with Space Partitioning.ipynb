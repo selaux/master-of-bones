{
 "cells": [
  {
   "cell_type": "code",
   "execution_count": 12,
   "metadata": {
    "collapsed": false
   },
   "outputs": [
    {
     "name": "stdout",
     "output_type": "stream",
     "text": [
      "Populating the interactive namespace from numpy and matplotlib\n",
      "Current base path: /home/stefan/Dropbox/Masterarbeit\n"
     ]
    }
   ],
   "source": [
    "%pylab qt\n",
    "\n",
    "import os\n",
    "import itertools\n",
    "import cv2\n",
    "import numpy as np\n",
    "from glob import glob\n",
    "from scipy.signal import argrelextrema\n",
    "\n",
    "import helpers.classes as ch\n",
    "import helpers.features as fh\n",
    "import helpers.display as dh\n",
    "import helpers.geometry as gh\n",
    "reload(ch)\n",
    "reload(fh)\n",
    "reload(dh)\n",
    "reload(gh)\n",
    "\n",
    "BASE_PATH = os.getcwd()\n",
    "print(\"Current base path: {0}\".format(BASE_PATH))\n",
    "DATA_PATH = BASE_PATH + '/Daten/2D/Talus_dorsal_mesh/'\n",
    "TO_PATH = BASE_PATH + '/Daten/2D/Talus_dorsal_registered_outline/'\n",
    "\n",
    "def extract_landmark_points(outline_points):\n",
    "    landmark_definitions = [\n",
    "        {\n",
    "            'x_min': -1,\n",
    "            'x_max': 0.25,\n",
    "            'y_min': -1.5,\n",
    "            'y_max': -0.75,\n",
    "            'method': 'min',\n",
    "            'dim': 'y'\n",
    "        },\n",
    "        {\n",
    "            'x_min': -0.5,\n",
    "            'x_max': 0.5,\n",
    "            'y_min': -1.5,\n",
    "            'y_max': -0.75,\n",
    "            'method': 'max',\n",
    "            'dim': 'y'\n",
    "        },\n",
    "        {\n",
    "            'x_min': 0.25,\n",
    "            'x_max': 1,\n",
    "            'y_min': -1.5,\n",
    "            'y_max': -0.75,\n",
    "            'method': 'min',\n",
    "            'dim': 'y'\n",
    "        },\n",
    "        {\n",
    "            'x_min': -1.5,\n",
    "            'x_max': 0,\n",
    "            'y_min': -0.3,\n",
    "            'y_max': 0.3,\n",
    "            'method': 'min',\n",
    "            'dim': 'x'\n",
    "        },\n",
    "        {\n",
    "            'x_min': -1,\n",
    "            'x_max': -0.25,\n",
    "            'y_min': 0.75,\n",
    "            'y_max': 1.5,\n",
    "            'method': 'max',\n",
    "            'dim': 'y'\n",
    "        },\n",
    "        {\n",
    "            'x_min': -0.5,\n",
    "            'x_max': 0.5,\n",
    "            'y_min': 0.75,\n",
    "            'y_max': 1.5,\n",
    "            'method': 'min',\n",
    "            'dim': 'y'\n",
    "        },\n",
    "        {\n",
    "            'x_min': 0.25,\n",
    "            'x_max': 1,\n",
    "            'y_min': 0.75,\n",
    "            'y_max': 1.5,\n",
    "            'method': 'max',\n",
    "            'dim': 'y'\n",
    "        }\n",
    "    ]\n",
    "    landmarks = []\n",
    "    \n",
    "    for definition in landmark_definitions:\n",
    "        method = np.argmax if definition['method'] == 'max' else np.argmin\n",
    "        method_extrema = np.greater if definition['method'] == 'max' else np.less\n",
    "        dim = 0 if definition['dim'] == 'y' else 1\n",
    "        sort_dim = 1 - dim\n",
    "        \n",
    "        x_min = definition['x_min']\n",
    "        x_max = definition['x_max']\n",
    "        y_min = definition['y_min']\n",
    "        y_max = definition['y_max']\n",
    "        selector = outline_points[:, 1] >= x_min\n",
    "        selector = np.logical_and(selector, outline_points[:, 1] <= x_max)\n",
    "        selector = np.logical_and(selector, outline_points[:, 0] >= y_min)\n",
    "        selector = np.logical_and(selector, outline_points[:, 0] <= y_max)\n",
    "\n",
    "        possible_points = outline_points[selector, :]\n",
    "        sorted_points = possible_points[np.argsort(possible_points[:, sort_dim]), :]\n",
    "        #print(sorted_points)\n",
    "        \n",
    "        local_extrema = argrelextrema(sorted_points[:, dim], method_extrema, order=10)[0]\n",
    "        if (len(local_extrema) > 0):\n",
    "            index_of_landmark = local_extrema[0]\n",
    "        else:\n",
    "            index_of_landmark = method(sorted_points[:, dim])\n",
    "        \n",
    "        #print(index_of_landmark)\n",
    "        \n",
    "        landmarks.append(sorted_points[index_of_landmark, :])\n",
    "    return np.array(landmarks)\n",
    "\n",
    "def register_outline(reference, points, no_iterations = 1):\n",
    "    landmarks_reference = extract_landmark_points(reference)\n",
    "\n",
    "    for i in range(no_iterations):\n",
    "        landmarks = extract_landmark_points(points)\n",
    "        #Compute the transformation between the current source\n",
    "        #and destination cloudpoint\n",
    "        R, t = gh.estimate_rigid_transform(landmarks, landmarks_reference)\n",
    "        R = np.array(R)\n",
    "        t = np.array(t)\n",
    "        #Transform the previous source and update the\n",
    "        #current source cloudpoint\n",
    "        points = (np.dot(R, points.transpose())).transpose() + np.tile(t, (points.shape[0], 1))\n",
    "    \n",
    "    return points\n",
    "\n",
    "def do_registration(loaded):\n",
    "    transposed_and_scaled = []\n",
    "    registered = []\n",
    "    \n",
    "    for outline in loaded:\n",
    "        points = outline['points']\n",
    "        \n",
    "        centroid = mean(points, axis=0)\n",
    "        points = points - np.tile(centroid, (len(points), 1))\n",
    "        \n",
    "        scale = sqrt(np.sum(np.power(points, 2)) / len(points))\n",
    "        points = np.divide(points, scale)\n",
    "        points[: ,0] = -points[:, 0]\n",
    "        points, edges = gh.normalize_outline(points, outline['edges'])\n",
    "        \n",
    "        transposed_and_scaled.append({\n",
    "            'label': outline['label'],\n",
    "            'filename': outline['filename'],\n",
    "            'points': points,\n",
    "            'edges': edges\n",
    "        })\n",
    "    \n",
    "    reference = max(transposed_and_scaled, key=lambda o: o['points'].shape[0])['points']\n",
    "    for outline in transposed_and_scaled:\n",
    "        points = outline['points']\n",
    "        edges = outline['edges']\n",
    "        \n",
    "        if not np.array_equal(points, reference):\n",
    "            points = register_outline(reference, points)\n",
    "            points, edges = gh.normalize_outline(points, edges)\n",
    "        registered.append({\n",
    "            'label': outline['label'],\n",
    "            'filename': outline['filename'],\n",
    "            'points': points,\n",
    "            'edges': edges\n",
    "        })\n",
    "    \n",
    "    return registered"
   ]
  },
  {
   "cell_type": "code",
   "execution_count": 3,
   "metadata": {
    "collapsed": true
   },
   "outputs": [],
   "source": [
    "filenames = glob(DATA_PATH + '*.npz')\n",
    "loaded = []\n",
    "for f in filenames:\n",
    "    basename = os.path.basename(f)\n",
    "    tri = np.load(f)\n",
    "    \n",
    "    points = tri['points']\n",
    "    triangles = tri['triangles']\n",
    "        \n",
    "    label = ''.join([i if ord(i) < 128 else ' ' for i in basename])\n",
    "    \n",
    "    cls = ch.get_class(basename)\n",
    "        \n",
    "    outline_points, outline_edges = gh.extract_outline(points, triangles)\n",
    "    \n",
    "    loaded.append({\n",
    "        'label': label,\n",
    "        'filename': f,\n",
    "        'class': cls[0],\n",
    "        'class_label': cls[1],\n",
    "        'points': outline_points,\n",
    "        'edges': outline_edges\n",
    "    })"
   ]
  },
  {
   "cell_type": "code",
   "execution_count": 4,
   "metadata": {
    "collapsed": true
   },
   "outputs": [],
   "source": [
    "filtered = ch.filter_by_classes(loaded, [ 2, 3 ])"
   ]
  },
  {
   "cell_type": "code",
   "execution_count": 5,
   "metadata": {
    "collapsed": false
   },
   "outputs": [
    {
     "name": "stderr",
     "output_type": "stream",
     "text": [
      "helpers/geometry.py:177: RuntimeWarning: divide by zero encountered in double_scalars\n",
      "  intersection = (num / denom) * db + b1\n",
      "helpers/geometry.py:177: RuntimeWarning: invalid value encountered in multiply\n",
      "  intersection = (num / denom) * db + b1\n"
     ]
    }
   ],
   "source": [
    "registered = do_registration(filtered)"
   ]
  },
  {
   "cell_type": "code",
   "execution_count": 6,
   "metadata": {
    "collapsed": false
   },
   "outputs": [
    {
     "data": {
      "text/plain": [
       "<helpers.windows.VTKWindow at 0x7f3b0dc3f218>"
      ]
     },
     "execution_count": 6,
     "metadata": {},
     "output_type": "execute_result"
    }
   ],
   "source": [
    "dh.outlines(registered)"
   ]
  },
  {
   "cell_type": "code",
   "execution_count": 14,
   "metadata": {
    "collapsed": false
   },
   "outputs": [],
   "source": [
    "outline = registered[15]\n",
    "landmarks = extract_landmark_points(outline['points'])\n",
    "window = dh.outline(outline, show_direction=True)\n",
    "pointActor = dh.get_points_actor(landmarks)\n",
    "window.ren.AddActor(pointActor)\n",
    "window.vtkWidget.GetRenderWindow().Render()"
   ]
  },
  {
   "cell_type": "code",
   "execution_count": 28,
   "metadata": {
    "collapsed": false
   },
   "outputs": [],
   "source": [
    "for outline in registered:\n",
    "    basename = os.path.basename(outline['filename'])\n",
    "    destination = os.path.join(TO_PATH, basename)\n",
    "    \n",
    "    np.savez(destination, points=outline['points'], edges=outline['edges'])"
   ]
  },
  {
   "cell_type": "code",
   "execution_count": null,
   "metadata": {
    "collapsed": true
   },
   "outputs": [],
   "source": []
  }
 ],
 "metadata": {
  "kernelspec": {
   "display_name": "Python 2",
   "language": "python",
   "name": "python2"
  },
  "language_info": {
   "codemirror_mode": {
    "name": "ipython",
    "version": 2
   },
   "file_extension": ".py",
   "mimetype": "text/x-python",
   "name": "python",
   "nbconvert_exporter": "python",
   "pygments_lexer": "ipython2",
   "version": "2.7.9"
  }
 },
 "nbformat": 4,
 "nbformat_minor": 0
}
