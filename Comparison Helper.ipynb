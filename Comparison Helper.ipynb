{
 "cells": [
  {
   "cell_type": "code",
   "execution_count": 1,
   "metadata": {
    "collapsed": false
   },
   "outputs": [
    {
     "name": "stdout",
     "output_type": "stream",
     "text": [
      "Populating the interactive namespace from numpy and matplotlib\n",
      "Current base path: /home/stefan/Dropbox/Masterarbeit\n"
     ]
    }
   ],
   "source": [
    "%pylab qt\n",
    "\n",
    "import cPickle as pickle\n",
    "import os\n",
    "import numpy as np\n",
    "from glob import glob\n",
    "\n",
    "import helpers.classes as ch\n",
    "import helpers.features as fh\n",
    "import helpers.display as dh\n",
    "import helpers.geometry as gh\n",
    "import helpers.loading as lh\n",
    "import helpers.windows\n",
    "reload(helpers.windows)\n",
    "reload(ch)\n",
    "reload(fh)\n",
    "reload(dh)\n",
    "reload(gh)\n",
    "reload(lh)\n",
    "import algorithms.comparison as cr\n",
    "reload(cr)\n",
    "\n",
    "BASE_PATH = os.getcwd()\n",
    "print(\"Current base path: {0}\".format(BASE_PATH))\n",
    "#DATA_PATH = BASE_PATH + '/Daten/2D/registered-outline/2015-06-08/'\n",
    "DATA_PATH = BASE_PATH + '/Daten/2D/Synthetic/2015-06-08-overall-and-point-noise/'\n",
    "\n",
    "FEATURE_EXTRACTORS = [\n",
    "    {\n",
    "        'label': 'Spline Points (Flattened)',\n",
    "        'fn': cr.FeatureFlattenSplines\n",
    "    },\n",
    "    {\n",
    "        'label': 'Distances to center',\n",
    "        'fn': cr.FeatureDistanceToCenter\n",
    "    },\n",
    "    {\n",
    "        'label': 'Distances to center and curvature',\n",
    "        'fn': cr.FeatureDistanceToCenterAndCurvature\n",
    "    },\n",
    "    {\n",
    "        'label': 'Use derivation vector from mean bone',\n",
    "        'fn': cr.FeatureFlattenedDeviationVectorFromMeanBone\n",
    "    },\n",
    "    {\n",
    "        'label': 'Spline derivatives',\n",
    "        'fn': cr.FeatureSplineDerivatives\n",
    "    },\n",
    "    {\n",
    "        'label': 'Distances to Markers',\n",
    "        'fn': cr.FeatureDistancesToMarkers\n",
    "    },\n",
    "    {\n",
    "        'label': 'Use Curvature of Distance from Center',\n",
    "        'fn': cr.FeatureCurvatureOfDistanceFromCenter\n",
    "    }\n",
    "]\n",
    "WINDOW_EXTRACTORS = [\n",
    "    {\n",
    "        'label': '2D Window by length',\n",
    "        'fn': cr.WindowExtractor2DByWindowLength\n",
    "    }\n",
    "]"
   ]
  },
  {
   "cell_type": "code",
   "execution_count": 2,
   "metadata": {
    "collapsed": false
   },
   "outputs": [],
   "source": [
    "loaded = lh.load_files(DATA_PATH)"
   ]
  },
  {
   "cell_type": "code",
   "execution_count": 3,
   "metadata": {
    "collapsed": false
   },
   "outputs": [
    {
     "data": {
      "text/plain": [
       "<helpers.windows.ComparisonWindow.ComparisonWindow at 0x7fc037e9bb00>"
      ]
     },
     "execution_count": 3,
     "metadata": {},
     "output_type": "execute_result"
    }
   ],
   "source": [
    "dh.comparison(\n",
    "    loaded,\n",
    "    compare_fn=cr.do_comparison,\n",
    "    window_extractors=WINDOW_EXTRACTORS,\n",
    "    feature_extractors=FEATURE_EXTRACTORS\n",
    ")"
   ]
  },
  {
   "cell_type": "code",
   "execution_count": null,
   "metadata": {
    "collapsed": true
   },
   "outputs": [],
   "source": []
  }
 ],
 "metadata": {
  "kernelspec": {
   "display_name": "Python 2",
   "language": "python",
   "name": "python2"
  },
  "language_info": {
   "codemirror_mode": {
    "name": "ipython",
    "version": 2
   },
   "file_extension": ".py",
   "mimetype": "text/x-python",
   "name": "python",
   "nbconvert_exporter": "python",
   "pygments_lexer": "ipython2",
   "version": "2.7.10"
  }
 },
 "nbformat": 4,
 "nbformat_minor": 0
}
