{
 "metadata": {
  "name": "",
  "signature": "sha256:33345d0efbe12ff158d9b935ec2a5ee89447f58720bf7e51add715cd4a4b639d"
 },
 "nbformat": 3,
 "nbformat_minor": 0,
 "worksheets": [
  {
   "cells": [
    {
     "cell_type": "code",
     "collapsed": false,
     "input": [
      "%pylab tk\n",
      "\n",
      "import numpy as np\n",
      "import os\n",
      "import json\n",
      "from time import time\n",
      "from skimage import io, color\n",
      "from skimage.filter.rank import median, mean\n",
      "from skimage.transform import rescale\n",
      "from skimage.morphology import disk, watershed\n",
      "\n",
      "BASE_PATH = os.getcwd()\n",
      "print(\"Current base path: {0}\".format(BASE_PATH))\n",
      "DATA_PATH = BASE_PATH + '/Daten/2D/Talus_dorsal/'\n",
      "TO_PATH = BASE_PATH + '/Daten/2D/Talus_dorsal_cut/'\n",
      "TEST_FILES = json.loads(open(BASE_PATH + '/Daten/2D/testfiles.json').read())\n",
      "\n",
      "MU = 1.25\n",
      "SCALE = 0.1\n",
      "INITIAL_WINDOW_SIZE = 500\n",
      "BORDER_SIZE = 100\n",
      "PADDING = 100\n",
      "\n",
      "def calculate_possible_bone_pixels(hsv_image, certain_bone_pixels):\n",
      "    smoothed_hsv = median(hsv_image[:, :, 0], disk(50))\n",
      "    threshold = MU * np.median(smoothed_hsv[certain_bone_pixels])\n",
      "    \n",
      "    possible_bones = np.zeros_like(hsv_image[:, :, 0])\n",
      "    possible_bones[smoothed_hsv < threshold] = 1\n",
      "    \n",
      "    return possible_bones\n",
      "\n",
      "def calculate_certain_bone_pixels(hsv_image):\n",
      "    low_res_image = rescale(hsv_image[:, :, 0], SCALE)\n",
      "    local_mean = mean(low_res_image, disk(50))\n",
      "    local_minimum_flat = np.argmin(local_mean)\n",
      "    local_minimum = np.multiply(np.unravel_index(local_minimum_flat, low_res_image.shape), round(1 / SCALE))\n",
      "    \n",
      "    certain_bone_pixels = np.full_like(hsv_image[:, :, 0], False, bool)\n",
      "    certain_bone_pixels[\n",
      "        local_minimum[0]-INITIAL_WINDOW_SIZE/2:local_minimum[0]+INITIAL_WINDOW_SIZE/2,\n",
      "        local_minimum[1]-INITIAL_WINDOW_SIZE/2:local_minimum[1]+INITIAL_WINDOW_SIZE/2\n",
      "    ] = True\n",
      "    \n",
      "    return certain_bone_pixels\n",
      "\n",
      "def calculate_certain_non_bone_pixels(hsv_image):\n",
      "    certain_non_bone_pixels = np.full_like(hsv_image[:, :, 0], False, bool)\n",
      "    certain_non_bone_pixels[0:BORDER_SIZE,:] = True\n",
      "    certain_non_bone_pixels[-BORDER_SIZE:-1,:] = True\n",
      "    certain_non_bone_pixels[:,0:BORDER_SIZE] = True\n",
      "    certain_non_bone_pixels[:,-BORDER_SIZE:-1] = True\n",
      "    \n",
      "    return certain_non_bone_pixels\n",
      "\n",
      "def watershed_from_certain_bone_pixels(possible_bone_pixels, certain_bone_pixels, certain_non_bone_pixels):\n",
      "    markers = np.zeros_like(possible_bone_pixels)\n",
      "    markers[certain_bone_pixels] = 1\n",
      "    markers[certain_non_bone_pixels] = 2\n",
      "    \n",
      "    labels = watershed(-possible_bone_pixels, markers)\n",
      "    \n",
      "    return labels == 1\n",
      "\n",
      "def cut_bone_from_full_image(rgb, bone_pixels):\n",
      "    indices_of_bone_pixels = np.where(bone_pixels == True)\n",
      "    min_dim_0 = indices_of_bone_pixels[0].min() - PADDING\n",
      "    max_dim_0 = indices_of_bone_pixels[0].max() + PADDING\n",
      "    min_dim_1 = indices_of_bone_pixels[1].min() - PADDING\n",
      "    max_dim_1 = indices_of_bone_pixels[1].max() + PADDING\n",
      "    \n",
      "    min_dim_0 = max(min_dim_0, 0)\n",
      "    min_dim_1 = max(min_dim_1, 0)\n",
      "    max_dim_0 = min(max_dim_0, rgb.shape[0])\n",
      "    max_dim_1 = min(max_dim_1, rgb.shape[1])\n",
      "    \n",
      "    return np.copy(rgb[min_dim_0:max_dim_0,min_dim_1:max_dim_1,:])"
     ],
     "language": "python",
     "metadata": {},
     "outputs": [
      {
       "output_type": "stream",
       "stream": "stdout",
       "text": [
        "Populating the interactive namespace from numpy and matplotlib\n",
        "Current base path: /media/lau/FLASH DRIVE\n"
       ]
      },
      {
       "output_type": "stream",
       "stream": "stderr",
       "text": [
        "WARNING: pylab import has clobbered these variables: ['mean', 'median']\n",
        "`%matplotlib` prevents importing * from pylab and numpy\n"
       ]
      }
     ],
     "prompt_number": 5
    },
    {
     "cell_type": "code",
     "collapsed": false,
     "input": [
      "file = TEST_FILES[3]\n",
      "ascii_filename = file['filename'].encode('ascii', 'replace')\n",
      "\n",
      "rgb_image = io.imread(DATA_PATH + file['filename'])\n",
      "hsv_image = color.rgb2hsv(rgb_image)\n",
      "\n",
      "start_time = time()\n",
      "certain_bone_pixels = calculate_certain_bone_pixels(hsv_image)\n",
      "print('{0} calculate_certain_bone_pixels: {1}s'.format(ascii_filename, time() - start_time))\n",
      "\n",
      "start_time = time()\n",
      "possible_bone_pixels = calculate_possible_bone_pixels(hsv_image, certain_bone_pixels)\n",
      "print('{0} calculate_possible_bone_pixels: {1}s'.format(ascii_filename, time() - start_time))\n",
      "\n",
      "start_time = time()\n",
      "certain_non_bone_pixels = calculate_certain_non_bone_pixels(hsv_image)\n",
      "print('{0} calculate_certain_non_bone_pixels: {1}s'.format(ascii_filename, time() - start_time))\n",
      "\n",
      "start_time = time()\n",
      "bone_pixels = watershed_from_certain_bone_pixels(possible_bone_pixels, certain_bone_pixels, certain_non_bone_pixels)\n",
      "print('{0} watershed_from_certain_bone_pixels: {1}s'.format(ascii_filename, time() - start_time))\n",
      "\n",
      "start_time = time()\n",
      "bone_only = cut_bone_from_full_image(rgb_image, bone_pixels)\n",
      "print('{0} cut_bone_from_full_image: {1}s'.format(ascii_filename, time() - start_time))\n",
      "\n",
      "watershed_config = np.copy(rgb_image)\n",
      "watershed_config[:,:,0][certain_bone_pixels] = 255\n",
      "watershed_config[:,:,1][certain_non_bone_pixels] = 255\n",
      "\n",
      "watershed_result = np.copy(rgb_image)\n",
      "watershed_result[:,:,0][bone_pixels] = 255\n",
      "\n",
      "fig, ax = plt.subplots(1, 5)\n",
      "\n",
      "ax[0].imshow(rgb_image)\n",
      "ax[0].set_title(\"RGB\")\n",
      "ax[1].imshow(color.gray2rgb(possible_bone_pixels))\n",
      "ax[1].set_title(\"Possible Bone\")\n",
      "ax[2].imshow(watershed_config)\n",
      "ax[2].set_title(\"Watershed Config\")\n",
      "ax[3].imshow(watershed_result)\n",
      "ax[3].set_title(\"Watershed Result\")\n",
      "ax[4].imshow(bone_only)\n",
      "ax[4].set_title(\"Bone\")"
     ],
     "language": "python",
     "metadata": {},
     "outputs": [
      {
       "output_type": "stream",
       "stream": "stdout",
       "text": [
        "G?_3_2000_3_L.JPG calculate_certain_bone_pixels: 0.0647749900818s\n",
        "G?_3_2000_3_L.JPG calculate_possible_bone_pixels: 4.74372696877s"
       ]
      },
      {
       "output_type": "stream",
       "stream": "stderr",
       "text": [
        "/home/l/lau/work/master/venv/local/lib/python2.7/site-packages/skimage/util/dtype.py:107: UserWarning: Possible precision loss when converting from float64 to uint8\n",
        "  \"%s to %s\" % (dtypeobj_in, dtypeobj))\n",
        "/home/l/lau/work/master/venv/local/lib/python2.7/site-packages/skimage/morphology/watershed.py:214: FutureWarning: comparison to `None` will result in an elementwise object comparison in the future.\n",
        "  if c_mask == None:\n"
       ]
      },
      {
       "output_type": "stream",
       "stream": "stdout",
       "text": [
        "\n",
        "G?_3_2000_3_L.JPG calculate_certain_non_bone_pixels: 0.000941038131714s\n",
        "G?_3_2000_3_L.JPG watershed_from_certain_bone_pixels: 2.09812116623s"
       ]
      },
      {
       "output_type": "stream",
       "stream": "stdout",
       "text": [
        "\n",
        "G?_3_2000_3_L.JPG cut_bone_from_full_image: 0.0296928882599s\n"
       ]
      },
      {
       "metadata": {},
       "output_type": "pyout",
       "prompt_number": 6,
       "text": [
        "<matplotlib.text.Text at 0x7ff84d3d28d0>"
       ]
      }
     ],
     "prompt_number": 6
    },
    {
     "cell_type": "code",
     "collapsed": false,
     "input": [
      "from glob import glob\n",
      "from os import path\n",
      "\n",
      "all_files = glob(DATA_PATH + '*')\n",
      "\n",
      "for index, filename in enumerate(all_files):\n",
      "    basename = path.basename(filename)\n",
      "    \n",
      "    print(\"{0} - {1} of {2}\".format(basename, index+1, len(all_files)))\n",
      "    \n",
      "    rgb_image = io.imread(filename)\n",
      "    hsv_image = color.rgb2hsv(rgb_image)\n",
      "    \n",
      "    certain_bone_pixels = calculate_certain_bone_pixels(hsv_image)\n",
      "    possible_bone_pixels = calculate_possible_bone_pixels(hsv_image, certain_bone_pixels)\n",
      "    certain_non_bone_pixels = calculate_certain_non_bone_pixels(hsv_image)\n",
      "    bone_pixels = watershed_from_certain_bone_pixels(possible_bone_pixels, certain_bone_pixels, certain_non_bone_pixels)\n",
      "    bone_only = cut_bone_from_full_image(rgb_image, bone_pixels)\n",
      "    \n",
      "    io.imsave(TO_PATH + basename, bone_only)"
     ],
     "language": "python",
     "metadata": {},
     "outputs": [
      {
       "output_type": "stream",
       "stream": "stderr",
       "text": [
        "/usr/lib/python3.4/site-packages/skimage/util/dtype.py:107: UserWarning: Possible precision loss when converting from float64 to uint8\n",
        "  \"%s to %s\" % (dtypeobj_in, dtypeobj))\n",
        "/usr/lib/python3.4/site-packages/skimage/morphology/watershed.py:214: FutureWarning: comparison to `None` will result in an elementwise object comparison in the future.\n",
        "  if c_mask == None:\n"
       ]
      },
      {
       "output_type": "stream",
       "stream": "stdout",
       "text": [
        "GSR2013-100R.JPG - 1 of 112\n",
        "GSR2013-17L.JPG - 2 of 112"
       ]
      },
      {
       "output_type": "stream",
       "stream": "stdout",
       "text": [
        "\n",
        "GSR2013-22R.JPG - 3 of 112"
       ]
      },
      {
       "output_type": "stream",
       "stream": "stdout",
       "text": [
        "\n",
        "GSR2013-23R.JPG - 4 of 112"
       ]
      },
      {
       "output_type": "stream",
       "stream": "stdout",
       "text": [
        "\n",
        "GSR2013-39L.JPG - 5 of 112"
       ]
      },
      {
       "output_type": "stream",
       "stream": "stdout",
       "text": [
        "\n",
        "GSR2013-44L.JPG - 6 of 112"
       ]
      },
      {
       "output_type": "stream",
       "stream": "stdout",
       "text": [
        "\n",
        "GSR2013-51R.JPG - 7 of 112"
       ]
      },
      {
       "output_type": "stream",
       "stream": "stdout",
       "text": [
        "\n",
        "GSR2013-59L.JPG - 8 of 112"
       ]
      },
      {
       "output_type": "stream",
       "stream": "stdout",
       "text": [
        "\n",
        "GSR2013-68L.JPG - 9 of 112"
       ]
      },
      {
       "output_type": "stream",
       "stream": "stdout",
       "text": [
        "\n",
        "GSR2013-69L.JPG - 10 of 112"
       ]
      },
      {
       "output_type": "stream",
       "stream": "stdout",
       "text": [
        "\n",
        "GSR2013-85R.JPG - 11 of 112"
       ]
      },
      {
       "output_type": "stream",
       "stream": "stdout",
       "text": [
        "\n",
        "GSR2013-93L.JPG - 12 of 112"
       ]
      },
      {
       "output_type": "stream",
       "stream": "stdout",
       "text": [
        "\n",
        "GSR2013-96R.JPG - 13 of 112"
       ]
      },
      {
       "output_type": "stream",
       "stream": "stdout",
       "text": [
        "\n",
        "GSR2013-98R.JPG - 14 of 112"
       ]
      },
      {
       "output_type": "stream",
       "stream": "stdout",
       "text": [
        "\n",
        "GSR2013-9L.JPG - 15 of 112"
       ]
      },
      {
       "output_type": "stream",
       "stream": "stdout",
       "text": [
        "\n",
        "GSR2014_27_R.JPG - 16 of 112"
       ]
      },
      {
       "output_type": "stream",
       "stream": "stdout",
       "text": [
        "\n",
        "GSR2014_37_L.JPG - 17 of 112"
       ]
      },
      {
       "output_type": "stream",
       "stream": "stdout",
       "text": [
        "\n",
        "GSR2014_44_L.JPG - 18 of 112"
       ]
      },
      {
       "output_type": "stream",
       "stream": "stdout",
       "text": [
        "\n",
        "GSR2014_51_R.JPG - 19 of 112"
       ]
      },
      {
       "output_type": "stream",
       "stream": "stdout",
       "text": [
        "\n",
        "Gaz_1.JPG - 20 of 112"
       ]
      },
      {
       "output_type": "stream",
       "stream": "stdout",
       "text": [
        "\n",
        "Gaz_2.JPG - 21 of 112"
       ]
      },
      {
       "output_type": "stream",
       "stream": "stdout",
       "text": [
        "\n",
        "Gaz_3.JPG - 22 of 112"
       ]
      },
      {
       "output_type": "stream",
       "stream": "stdout",
       "text": [
        "\n",
        "Gaz_4.JPG - 23 of 112"
       ]
      },
      {
       "output_type": "stream",
       "stream": "stdout",
       "text": [
        "\n",
        "Gaz_5.JPG - 24 of 112"
       ]
      },
      {
       "output_type": "stream",
       "stream": "stdout",
       "text": [
        "\n",
        "Gaz_6.jpg - 25 of 112"
       ]
      },
      {
       "output_type": "stream",
       "stream": "stdout",
       "text": [
        "\n",
        "Gaz_7.jpg - 26 of 112"
       ]
      },
      {
       "output_type": "stream",
       "stream": "stdout",
       "text": [
        "\n",
        "Gaz_8.jpg - 27 of 112"
       ]
      },
      {
       "output_type": "stream",
       "stream": "stdout",
       "text": [
        "\n",
        "Gaz_9.jpg - 28 of 112"
       ]
      },
      {
       "output_type": "stream",
       "stream": "stdout",
       "text": [
        "\n",
        "G\u00d6_2_2000_4_L.JPG - 29 of 112"
       ]
      },
      {
       "output_type": "stream",
       "stream": "stdout",
       "text": [
        "\n",
        "G\u00d6_2_2011_230_L.JPG - 30 of 112"
       ]
      },
      {
       "output_type": "stream",
       "stream": "stdout",
       "text": [
        "\n",
        "G\u00d6_2_2011_236_L.JPG - 31 of 112"
       ]
      },
      {
       "output_type": "stream",
       "stream": "stdout",
       "text": [
        "\n",
        "G\u00d6_3_1999_633_R.JPG - 32 of 112"
       ]
      },
      {
       "output_type": "stream",
       "stream": "stdout",
       "text": [
        "\n",
        "G\u00d6_3_2000_2_R.JPG - 33 of 112"
       ]
      },
      {
       "output_type": "stream",
       "stream": "stdout",
       "text": [
        "\n",
        "G\u00d6_3_2000_3_L.JPG - 34 of 112"
       ]
      },
      {
       "output_type": "stream",
       "stream": "stdout",
       "text": [
        "\n",
        "G\u00d6_3_2008_15_R.JPG - 35 of 112"
       ]
      },
      {
       "output_type": "stream",
       "stream": "stdout",
       "text": [
        "\n",
        "G\u00d6_3_2008_9_L.JPG - 36 of 112"
       ]
      },
      {
       "output_type": "stream",
       "stream": "stdout",
       "text": [
        "\n",
        "G\u00d6_3_2010_149_L.JPG - 37 of 112"
       ]
      },
      {
       "output_type": "stream",
       "stream": "stdout",
       "text": [
        "\n",
        "G\u00d6_3_2011_15_R.JPG - 38 of 112"
       ]
      },
      {
       "output_type": "stream",
       "stream": "stdout",
       "text": [
        "\n",
        "G\u00d6_3_2011_232_L.JPG - 39 of 112"
       ]
      },
      {
       "output_type": "stream",
       "stream": "stdout",
       "text": [
        "\n",
        "G\u00d6_3_2011_233_L.JPG - 40 of 112"
       ]
      },
      {
       "output_type": "stream",
       "stream": "stdout",
       "text": [
        "\n",
        "G\u00d6_3_2011_281_R.JPG - 41 of 112"
       ]
      },
      {
       "output_type": "stream",
       "stream": "stdout",
       "text": [
        "\n",
        "G\u00d6_3_2011_297_L.JPG - 42 of 112"
       ]
      },
      {
       "output_type": "stream",
       "stream": "stdout",
       "text": [
        "\n",
        "G\u00d6_3_2011_48_L.JPG - 43 of 112"
       ]
      },
      {
       "output_type": "stream",
       "stream": "stdout",
       "text": [
        "\n",
        "G\u00d6_3_2011_6_R.JPG - 44 of 112"
       ]
      },
      {
       "output_type": "stream",
       "stream": "stdout",
       "text": [
        "\n",
        "G\u00d6_3_2012_133_L.JPG - 45 of 112"
       ]
      },
      {
       "output_type": "stream",
       "stream": "stdout",
       "text": [
        "\n",
        "G\u00d6_3_2012_142_L.JPG - 46 of 112"
       ]
      },
      {
       "output_type": "stream",
       "stream": "stdout",
       "text": [
        "\n",
        "G\u00d6_3_2012_153_R.JPG - 47 of 112"
       ]
      },
      {
       "output_type": "stream",
       "stream": "stdout",
       "text": [
        "\n",
        "G\u00d6_3_2012_421_R.JPG - 48 of 112"
       ]
      },
      {
       "output_type": "stream",
       "stream": "stdout",
       "text": [
        "\n",
        "G\u00d6_3_2012_422_R.JPG - 49 of 112"
       ]
      },
      {
       "output_type": "stream",
       "stream": "stdout",
       "text": [
        "\n",
        "G\u00d6_3_2013_274a_L.JPG - 50 of 112"
       ]
      },
      {
       "output_type": "stream",
       "stream": "stdout",
       "text": [
        "\n",
        "G\u00d6_3_2013_283a_R.JPG - 51 of 112"
       ]
      },
      {
       "output_type": "stream",
       "stream": "stdout",
       "text": [
        "\n",
        "G\u00d6_3_L9_66_87.1_R.JPG - 52 of 112"
       ]
      },
      {
       "output_type": "stream",
       "stream": "stdout",
       "text": [
        "\n",
        "G\u00d6_i_2000_1_L.JPG - 53 of 112"
       ]
      },
      {
       "output_type": "stream",
       "stream": "stdout",
       "text": [
        "\n",
        "G\u00d6_i_2000_5_R.JPG - 54 of 112"
       ]
      },
      {
       "output_type": "stream",
       "stream": "stdout",
       "text": [
        "\n",
        "G\u00d6_i_2000_8_R.JPG - 55 of 112"
       ]
      },
      {
       "output_type": "stream",
       "stream": "stdout",
       "text": [
        "\n",
        "G\u00d6_i_2008_11_L.JPG - 56 of 112"
       ]
      },
      {
       "output_type": "stream",
       "stream": "stdout",
       "text": [
        "\n",
        "G\u00d6_i_2008_1_L.JPG - 57 of 112"
       ]
      },
      {
       "output_type": "stream",
       "stream": "stdout",
       "text": [
        "\n",
        "G\u00d6_i_2008_7_L.JPG - 58 of 112"
       ]
      },
      {
       "output_type": "stream",
       "stream": "stdout",
       "text": [
        "\n",
        "G\u00d6_i_2010_32_R.JPG - 59 of 112"
       ]
      },
      {
       "output_type": "stream",
       "stream": "stdout",
       "text": [
        "\n",
        "G\u00d6_i_2011_120_R.JPG - 60 of 112"
       ]
      },
      {
       "output_type": "stream",
       "stream": "stdout",
       "text": [
        "\n",
        "G\u00d6_i_2011_234_L.JPG - 61 of 112"
       ]
      },
      {
       "output_type": "stream",
       "stream": "stdout",
       "text": [
        "\n",
        "G\u00d6_i_2012_171_R.JPG - 62 of 112"
       ]
      },
      {
       "output_type": "stream",
       "stream": "stdout",
       "text": [
        "\n",
        "G\u00d6_i_2013_281b_R.JPG - 63 of 112"
       ]
      },
      {
       "output_type": "stream",
       "stream": "stdout",
       "text": [
        "\n",
        "G\u00d6_p_2010_120_L.JPG - 64 of 112"
       ]
      },
      {
       "output_type": "stream",
       "stream": "stdout",
       "text": [
        "\n",
        "G\u00d6_p_2012_117_R.JPG - 65 of 112"
       ]
      },
      {
       "output_type": "stream",
       "stream": "stdout",
       "text": [
        "\n",
        "G\u00d6_p_2012_122_R.JPG - 66 of 112"
       ]
      },
      {
       "output_type": "stream",
       "stream": "stdout",
       "text": [
        "\n",
        "G\u00d6_p_2012_188_L.JPG - 67 of 112"
       ]
      },
      {
       "output_type": "stream",
       "stream": "stdout",
       "text": [
        "\n",
        "G\u00d6_p_2013_115_L.JPG - 68 of 112"
       ]
      },
      {
       "output_type": "stream",
       "stream": "stdout",
       "text": [
        "\n",
        "G\u00d6_p_2013_188L.JPG - 69 of 112"
       ]
      },
      {
       "output_type": "stream",
       "stream": "stdout",
       "text": [
        "\n",
        "G\u00d6_p_2013_211R.JPG - 70 of 112"
       ]
      },
      {
       "output_type": "stream",
       "stream": "stdout",
       "text": [
        "\n",
        "G\u00dc001_l3_L.JPG - 71 of 112"
       ]
      },
      {
       "output_type": "stream",
       "stream": "stdout",
       "text": [
        "\n",
        "G\u00dc002_l3_L.JPG - 72 of 112"
       ]
      },
      {
       "output_type": "stream",
       "stream": "stdout",
       "text": [
        "\n",
        "G\u00dc2011_G\u00dc12_R.JPG - 73 of 112"
       ]
      },
      {
       "output_type": "stream",
       "stream": "stdout",
       "text": [
        "\n",
        "G\u00dc2011_G\u00dc13_R.JPG - 74 of 112"
       ]
      },
      {
       "output_type": "stream",
       "stream": "stdout",
       "text": [
        "\n",
        "G\u00dc2011_G\u00dc14_R.JPG - 75 of 112"
       ]
      },
      {
       "output_type": "stream",
       "stream": "stdout",
       "text": [
        "\n",
        "G\u00dc2011_G\u00dc15_L.JPG - 76 of 112"
       ]
      },
      {
       "output_type": "stream",
       "stream": "stdout",
       "text": [
        "\n",
        "G\u00dc2011_G\u00dc17_R.JPG - 77 of 112"
       ]
      },
      {
       "output_type": "stream",
       "stream": "stdout",
       "text": [
        "\n",
        "G\u00dc2011_G\u00dc20_R.JPG - 78 of 112"
       ]
      },
      {
       "output_type": "stream",
       "stream": "stdout",
       "text": [
        "\n",
        "G\u00dc2011_G\u00dc3_R.JPG - 79 of 112"
       ]
      },
      {
       "output_type": "stream",
       "stream": "stdout",
       "text": [
        "\n",
        "G\u00dc2011_G\u00dc4_R.JPG - 80 of 112"
       ]
      },
      {
       "output_type": "stream",
       "stream": "stdout",
       "text": [
        "\n",
        "G\u00dc2011_G\u00dc7_L.JPG - 81 of 112"
       ]
      },
      {
       "output_type": "stream",
       "stream": "stdout",
       "text": [
        "\n",
        "MIZ08-465R_13.JPG - 82 of 112"
       ]
      },
      {
       "output_type": "stream",
       "stream": "stdout",
       "text": [
        "\n",
        "Ma139.2R_d.jpg - 83 of 112"
       ]
      },
      {
       "output_type": "stream",
       "stream": "stdout",
       "text": [
        "\n",
        "Ma159L_d.JPG - 84 of 112"
       ]
      },
      {
       "output_type": "stream",
       "stream": "stdout",
       "text": [
        "\n",
        "Ma278L_d.JPG - 85 of 112"
       ]
      },
      {
       "output_type": "stream",
       "stream": "stdout",
       "text": [
        "\n",
        "Ma295R_d.JPG - 86 of 112"
       ]
      },
      {
       "output_type": "stream",
       "stream": "stdout",
       "text": [
        "\n",
        "Ma300.4L_d.JPG - 87 of 112"
       ]
      },
      {
       "output_type": "stream",
       "stream": "stdout",
       "text": [
        "\n",
        "Ma318.7R_d.JPG - 88 of 112"
       ]
      },
      {
       "output_type": "stream",
       "stream": "stdout",
       "text": [
        "\n",
        "Ma338.5L_d.JPG - 89 of 112"
       ]
      },
      {
       "output_type": "stream",
       "stream": "stdout",
       "text": [
        "\n",
        "Ma354R_d.jpg - 90 of 112"
       ]
      },
      {
       "output_type": "stream",
       "stream": "stdout",
       "text": [
        "\n",
        "Ma403L_d.JPG - 91 of 112"
       ]
      },
      {
       "output_type": "stream",
       "stream": "stdout",
       "text": [
        "\n",
        "Ma61.1L_d.JPG - 92 of 112"
       ]
      },
      {
       "output_type": "stream",
       "stream": "stdout",
       "text": [
        "\n",
        "Ma62.287R_d.JPG - 93 of 112"
       ]
      },
      {
       "output_type": "stream",
       "stream": "stdout",
       "text": [
        "\n",
        "Ma62.5L_d.JPG - 94 of 112"
       ]
      },
      {
       "output_type": "stream",
       "stream": "stdout",
       "text": [
        "\n",
        "MiZ08-465L_1.JPG - 95 of 112"
       ]
      },
      {
       "output_type": "stream",
       "stream": "stdout",
       "text": [
        "\n",
        "MiZ08-465L_10.JPG - 96 of 112"
       ]
      },
      {
       "output_type": "stream",
       "stream": "stdout",
       "text": [
        "\n",
        "MiZ08-465L_11.JPG - 97 of 112"
       ]
      },
      {
       "output_type": "stream",
       "stream": "stdout",
       "text": [
        "\n",
        "MiZ08-465L_12.JPG - 98 of 112"
       ]
      },
      {
       "output_type": "stream",
       "stream": "stdout",
       "text": [
        "\n",
        "MiZ08-465L_14.JPG - 99 of 112"
       ]
      },
      {
       "output_type": "stream",
       "stream": "stdout",
       "text": [
        "\n",
        "MiZ08-465L_15.JPG - 100 of 112"
       ]
      },
      {
       "output_type": "stream",
       "stream": "stdout",
       "text": [
        "\n",
        "MiZ08-465L_3.JPG - 101 of 112"
       ]
      },
      {
       "output_type": "stream",
       "stream": "stdout",
       "text": [
        "\n",
        "MiZ08-465R_16.JPG - 102 of 112"
       ]
      },
      {
       "output_type": "stream",
       "stream": "stdout",
       "text": [
        "\n",
        "MiZ08-465R_4.JPG - 103 of 112"
       ]
      },
      {
       "output_type": "stream",
       "stream": "stdout",
       "text": [
        "\n",
        "MiZ08-465R_5.JPG - 104 of 112"
       ]
      },
      {
       "output_type": "stream",
       "stream": "stdout",
       "text": [
        "\n",
        "MiZ08-465R_6.JPG - 105 of 112"
       ]
      },
      {
       "output_type": "stream",
       "stream": "stdout",
       "text": [
        "\n",
        "MiZ08-465R_7.JPG - 106 of 112"
       ]
      },
      {
       "output_type": "stream",
       "stream": "stdout",
       "text": [
        "\n",
        "MiZ08-465R_8.JPG - 107 of 112"
       ]
      },
      {
       "output_type": "stream",
       "stream": "stdout",
       "text": [
        "\n",
        "MiZ08-465R_9.JPG - 108 of 112"
       ]
      },
      {
       "output_type": "stream",
       "stream": "stdout",
       "text": [
        "\n",
        "MiZ09-113R_1.JPG - 109 of 112"
       ]
      },
      {
       "output_type": "stream",
       "stream": "stdout",
       "text": [
        "\n",
        "MiZ09-118L_1.JPG - 110 of 112"
       ]
      },
      {
       "output_type": "stream",
       "stream": "stdout",
       "text": [
        "\n",
        "MiZ09-118R_2.JPG - 111 of 112"
       ]
      },
      {
       "output_type": "stream",
       "stream": "stdout",
       "text": [
        "\n",
        "MiZ09-118R_3.JPG - 112 of 112"
       ]
      },
      {
       "output_type": "stream",
       "stream": "stdout",
       "text": [
        "\n"
       ]
      }
     ],
     "prompt_number": 2
    },
    {
     "cell_type": "code",
     "collapsed": false,
     "input": [],
     "language": "python",
     "metadata": {},
     "outputs": []
    }
   ],
   "metadata": {}
  }
 ]
}