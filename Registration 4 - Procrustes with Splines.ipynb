{
 "metadata": {
  "kernelspec": {
   "display_name": "Python 2",
   "language": "python",
   "name": "python2"
  },
  "language_info": {
   "codemirror_mode": {
    "name": "ipython",
    "version": 2
   },
   "file_extension": ".py",
   "mimetype": "text/x-python",
   "name": "python",
   "nbconvert_exporter": "python",
   "pygments_lexer": "ipython2",
   "version": "2.7.9"
  },
  "name": "",
  "signature": "sha256:040087a4225a81b5174f53d9e304f2af2a987d2788ff04f93d5505785bc2b661"
 },
 "nbformat": 3,
 "nbformat_minor": 0,
 "worksheets": [
  {
   "cells": [
    {
     "cell_type": "code",
     "collapsed": false,
     "input": [
      "%pylab qt\n",
      "\n",
      "import gzip\n",
      "import pickle\n",
      "import os\n",
      "import itertools\n",
      "import cv2\n",
      "import numpy as np\n",
      "from glob import glob\n",
      "from skimage.transform import estimate_transform\n",
      "from scipy.interpolate import splprep, splev\n",
      "\n",
      "import helpers.classes as ch\n",
      "import helpers.features as fh\n",
      "import helpers.display as dh\n",
      "import helpers.geometry as gh\n",
      "reload(ch)\n",
      "reload(fh)\n",
      "reload(dh)\n",
      "reload(gh)\n",
      "\n",
      "BASE_PATH = os.getcwd()\n",
      "print(\"Current base path: {0}\".format(BASE_PATH))\n",
      "DATA_PATH = BASE_PATH + '/Daten/2D/Talus_dorsal_mesh_2/'\n",
      "TO_PATH = BASE_PATH + '/Daten/2D/Talus_dorsal_registered_outline_3/'\n",
      "\n",
      "NUM_SPLINE_POINTS = 250\n",
      "\n",
      "def extract_spline(points):\n",
      "    y = points[:,0].flatten()\n",
      "    x = points[:,1].flatten()\n",
      "    \n",
      "    tck, u = splprep([y, x], s=0)\n",
      "    coords = splev(np.linspace(0, 1, NUM_SPLINE_POINTS), tck)\n",
      "    \n",
      "    spline_points = np.zeros((NUM_SPLINE_POINTS, 2))\n",
      "    spline_points[:, 0] = coords[0]\n",
      "    spline_points[:, 1] = coords[1]\n",
      "    \n",
      "    return spline_points\n",
      "\n",
      "def register_outline_with_icp(reference_points, points, edges, no_iterations = 1):\n",
      "    ref_spline = extract_spline(reference_points)\n",
      "    \n",
      "    for i in range(no_iterations):\n",
      "        #points, edges = gh.normalize_outline(points, edges)\n",
      "        spline_points = extract_spline(points)\n",
      "        \n",
      "        \n",
      "        tform = estimate_transform('affine', spline_points, ref_spline)\n",
      "        points = tform(points)\n",
      "        \n",
      "        #R, t = gh.estimate_rigid_transform(spline_points, ref_spline)\n",
      "        #R = np.array(R)\n",
      "        #t = np.array(t)\n",
      "        #Transform the previous source and update the\n",
      "        #current source cloudpoint\n",
      "        #points = (np.dot(R, points.transpose())).transpose() + np.tile(t, (points.shape[0], 1))\n",
      "    \n",
      "    return points\n",
      "\n",
      "def do_registration(loaded):\n",
      "    transposed_and_scaled = []\n",
      "    registered = []\n",
      "           \n",
      "    for outline in loaded:\n",
      "        points = outline['points']\n",
      "        \n",
      "        spl_points = extract_spline(points)\n",
      "        centroid = mean(spl_points, axis=0)\n",
      "        points = points - np.tile(centroid, (len(points), 1))\n",
      "        spl_points = spl_points - np.tile(centroid, (len(spl_points), 1))\n",
      "        \n",
      "        scale = sqrt(np.sum(np.power(spl_points[:, 0], 2)) / len(spl_points))\n",
      "        points = np.divide(points, scale)\n",
      "        \n",
      "        edges = outline['edges']\n",
      "        points, edges = gh.normalize_outline(points, outline['edges'])\n",
      "        \n",
      "        transposed_and_scaled.append({\n",
      "            'label': outline['label'],\n",
      "            'filename': outline['filename'],\n",
      "            'class': outline['class'],\n",
      "            'class_label': outline['class_label'],\n",
      "            'points': points,\n",
      "            'edges': edges\n",
      "        })\n",
      "    \n",
      "    temp = []\n",
      "    for outline in transposed_and_scaled:\n",
      "        points = extract_spline(outline['points'])\n",
      "        edges = np.zeros((points.shape[0], 2), dtype=np.int)\n",
      "        edges[:, 0] = range(0, points.shape[0])\n",
      "        edges[:, 1] = range(1, points.shape[0]+1)\n",
      "        edges[-1, 1] = 0\n",
      "        #print(points)\n",
      "        temp.append({\n",
      "            'label': outline['label'],\n",
      "            'filename': outline['filename'],\n",
      "            'class': outline['class'],\n",
      "            'class_label': outline['class_label'],\n",
      "            'points': points,\n",
      "            'edges': edges\n",
      "        })\n",
      "        \n",
      "    reference = max(transposed_and_scaled, key=lambda o: o['points'].shape[0])\n",
      "    reference_points = reference['points']\n",
      "    reference_edges = reference['edges']\n",
      "    for outline in transposed_and_scaled:\n",
      "        points = outline['points']\n",
      "        edges = outline['edges']\n",
      "        \n",
      "        if not np.array_equal(points, reference):\n",
      "            points = register_outline_with_icp(reference_points, points, edges)\n",
      "            points, edges = gh.normalize_outline(points, edges)\n",
      "        registered.append({\n",
      "            'label': outline['label'],\n",
      "            'filename': outline['filename'],\n",
      "            'class': outline['class'],\n",
      "            'class_label': outline['class_label'],\n",
      "            'points': points,\n",
      "            'edges': edges\n",
      "        })\n",
      "    \n",
      "    return registered"
     ],
     "language": "python",
     "metadata": {},
     "outputs": [
      {
       "output_type": "stream",
       "stream": "stdout",
       "text": [
        "Populating the interactive namespace from numpy and matplotlib\n",
        "Current base path: /home/stefan/Dropbox/Masterarbeit"
       ]
      },
      {
       "output_type": "stream",
       "stream": "stdout",
       "text": [
        "\n"
       ]
      }
     ],
     "prompt_number": 1
    },
    {
     "cell_type": "code",
     "collapsed": false,
     "input": [
      "filenames = glob(DATA_PATH + '*.pkl')\n",
      "loaded = []\n",
      "for filename in filenames:\n",
      "    with gzip.GzipFile(filename, 'rb') as f:\n",
      "        content = pickle.load(f)\n",
      "        \n",
      "    if 'done' in content and content['done']:\n",
      "        basename = os.path.basename(filename)\n",
      "        points = content['points']\n",
      "        triangles = content['simplices']\n",
      "\n",
      "        label = ''.join([i if ord(i) < 128 else ' ' for i in basename])\n",
      "\n",
      "        cls = ch.get_class(basename)\n",
      "\n",
      "        outline_points, outline_edges = gh.extract_outline(points, triangles)\n",
      "\n",
      "        loaded.append({\n",
      "            'label': label,\n",
      "            'filename': basename,\n",
      "            'class': cls[0],\n",
      "            'class_label': cls[1],\n",
      "            'points': outline_points,\n",
      "            'edges': outline_edges\n",
      "        })"
     ],
     "language": "python",
     "metadata": {},
     "outputs": [],
     "prompt_number": 2
    },
    {
     "cell_type": "code",
     "collapsed": false,
     "input": [
      "filtered = ch.filter_by_classes(loaded, [ 2, 3 ])"
     ],
     "language": "python",
     "metadata": {},
     "outputs": [],
     "prompt_number": 3
    },
    {
     "cell_type": "code",
     "collapsed": false,
     "input": [
      "dh.outlines(filtered, color_by_class=True)"
     ],
     "language": "python",
     "metadata": {},
     "outputs": [
      {
       "metadata": {},
       "output_type": "pyout",
       "prompt_number": 4,
       "text": [
        "<helpers.windows.VTKWindow at 0x7fbd58a32478>"
       ]
      }
     ],
     "prompt_number": 4
    },
    {
     "cell_type": "code",
     "collapsed": false,
     "input": [
      "registered = do_registration(filtered)"
     ],
     "language": "python",
     "metadata": {},
     "outputs": [],
     "prompt_number": 4
    },
    {
     "cell_type": "code",
     "collapsed": false,
     "input": [
      "dh.outlines(registered, color_by_class=True)"
     ],
     "language": "python",
     "metadata": {},
     "outputs": [
      {
       "metadata": {},
       "output_type": "pyout",
       "prompt_number": 5,
       "text": [
        "<helpers.windows.VTKWindow at 0x7f667b4e0478>"
       ]
      }
     ],
     "prompt_number": 5
    },
    {
     "cell_type": "code",
     "collapsed": false,
     "input": [
      "temp = []\n",
      "for outline in registered:\n",
      "    points = extract_spline(outline['points'])\n",
      "    edges = np.zeros((points.shape[0], 2), dtype=np.int)\n",
      "    edges[:, 0] = range(0, points.shape[0])\n",
      "    edges[:, 1] = range(1, points.shape[0]+1)\n",
      "    edges[-1, 1] = 0\n",
      "    #print(points)\n",
      "    temp.append({\n",
      "        'label': outline['label'],\n",
      "        'filename': outline['filename'],\n",
      "        'points': points,\n",
      "        'edges': edges\n",
      "    })\n",
      "    temp.append({\n",
      "        'label': outline['label'] + '_org',\n",
      "        'filename': outline['filename'],\n",
      "        'points': outline['points'],\n",
      "        'edges': outline['edges']\n",
      "    })\n",
      "dh.outlines(temp, show_direction=True)"
     ],
     "language": "python",
     "metadata": {},
     "outputs": [
      {
       "metadata": {},
       "output_type": "pyout",
       "prompt_number": 16,
       "text": [
        "<helpers.windows.VTKWindow at 0x7f9b3e637d60>"
       ]
      }
     ],
     "prompt_number": 16
    },
    {
     "cell_type": "code",
     "collapsed": false,
     "input": [
      "for outline in registered:\n",
      "    basename = os.path.basename(outline['filename'])\n",
      "    destination = os.path.join(TO_PATH, basename)\n",
      "    \n",
      "    np.savez(destination, points=outline['points'], edges=outline['edges'])"
     ],
     "language": "python",
     "metadata": {},
     "outputs": [],
     "prompt_number": 6
    },
    {
     "cell_type": "code",
     "collapsed": false,
     "input": [],
     "language": "python",
     "metadata": {},
     "outputs": [],
     "prompt_number": null
    }
   ],
   "metadata": {}
  }
 ]
}