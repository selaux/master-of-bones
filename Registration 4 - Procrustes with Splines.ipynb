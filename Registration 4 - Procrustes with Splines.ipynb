{
 "cells": [
  {
   "cell_type": "code",
   "execution_count": 24,
   "metadata": {
    "collapsed": false
   },
   "outputs": [
    {
     "name": "stdout",
     "output_type": "stream",
     "text": [
      "Populating the interactive namespace from numpy and matplotlib\n",
      "Current base path: /home/stefan/Dropbox/Masterarbeit\n"
     ]
    }
   ],
   "source": [
    "%pylab qt\n",
    "\n",
    "import os\n",
    "import itertools\n",
    "import cv2\n",
    "import numpy as np\n",
    "from glob import glob\n",
    "from scipy.interpolate import splprep, splev\n",
    "\n",
    "import helpers.features as fh\n",
    "import helpers.display as dh\n",
    "import helpers.geometry as gh\n",
    "reload(fh)\n",
    "reload(dh)\n",
    "reload(gh)\n",
    "\n",
    "BASE_PATH = os.getcwd()\n",
    "print(\"Current base path: {0}\".format(BASE_PATH))\n",
    "DATA_PATH = BASE_PATH + '/Daten/2D/Talus_dorsal_mesh/'\n",
    "TO_PATH = BASE_PATH + '/Daten/2D/Talus_dorsal_registered_outline/'\n",
    "\n",
    "NUM_SPLINE_POINTS = 250\n",
    "\n",
    "def extract_spline(points):\n",
    "    y = points[:,0].flatten()\n",
    "    x = points[:,1].flatten()\n",
    "    \n",
    "    tck, u = splprep([y, x], s=0)\n",
    "    coords = splev(np.linspace(0, 1, NUM_SPLINE_POINTS), tck)\n",
    "    \n",
    "    spline_points = np.zeros((NUM_SPLINE_POINTS, 2))\n",
    "    spline_points[:, 0] = coords[0]\n",
    "    spline_points[:, 1] = coords[1]\n",
    "    \n",
    "    return spline_points\n",
    "\n",
    "def register_outline_with_icp(reference_points, points, edges, no_iterations = 1):\n",
    "    ref_spline = extract_spline(reference_points)\n",
    "    \n",
    "    for i in range(no_iterations):\n",
    "        #points, edges = gh.normalize_outline(points, edges)\n",
    "        spline_points = extract_spline(points)\n",
    "        \n",
    "        R, t = gh.estimate_rigid_transform(spline_points, ref_spline)\n",
    "        R = np.array(R)\n",
    "        t = np.array(t)\n",
    "        #Transform the previous source and update the\n",
    "        #current source cloudpoint\n",
    "        points = (np.dot(R, points.transpose())).transpose() + np.tile(t, (points.shape[0], 1))\n",
    "    \n",
    "    return points\n",
    "\n",
    "def do_registration(files):\n",
    "    loaded = []\n",
    "    transposed_and_scaled = []\n",
    "    registered = []\n",
    "    \n",
    "    for f in files:\n",
    "        tri = np.load(f)\n",
    "        points = tri['points']\n",
    "        triangles = tri['triangles']\n",
    "        \n",
    "        label = os.path.basename(f)\n",
    "        label = ''.join([i if ord(i) < 128 else ' ' for i in label])\n",
    "        \n",
    "        outline_points, outline_edges = gh.extract_outline(points, tri['triangles'])\n",
    "        \n",
    "        loaded.append({\n",
    "            'label': label,\n",
    "            'filename': f,\n",
    "            'points': outline_points,\n",
    "            'edges': outline_edges\n",
    "        })\n",
    "           \n",
    "    for outline in loaded:\n",
    "        points = outline['points']\n",
    "        \n",
    "        centroid = mean(points, axis=0)\n",
    "        points = points - np.tile(centroid, (len(points), 1))\n",
    "        \n",
    "        scale = sqrt(np.sum(np.power(points, 2)) / len(points))\n",
    "        points = np.divide(points, scale)\n",
    "        points[: ,0] = -points[:, 0]\n",
    "        \n",
    "        edges = outline['edges']\n",
    "        points, edges = gh.normalize_outline(points, outline['edges'])\n",
    "        \n",
    "        transposed_and_scaled.append({\n",
    "            'label': outline['label'],\n",
    "            'filename': outline['filename'],\n",
    "            'points': points,\n",
    "            'edges': edges\n",
    "        })\n",
    "    \n",
    "    temp = []\n",
    "    for outline in transposed_and_scaled:\n",
    "        points = extract_spline(outline['points'])\n",
    "        edges = np.zeros((points.shape[0], 2), dtype=np.int)\n",
    "        edges[:, 0] = range(0, points.shape[0])\n",
    "        edges[:, 1] = range(1, points.shape[0]+1)\n",
    "        edges[-1, 1] = 0\n",
    "        #print(points)\n",
    "        temp.append({\n",
    "            'label': outline['label'],\n",
    "            'filename': outline['filename'],\n",
    "            'points': points,\n",
    "            'edges': edges\n",
    "        })\n",
    "        \n",
    "    reference = max(transposed_and_scaled, key=lambda o: o['points'].shape[0])\n",
    "    reference_points = reference['points']\n",
    "    reference_edges = reference['edges']\n",
    "    for outline in transposed_and_scaled:\n",
    "        points = outline['points']\n",
    "        edges = outline['edges']\n",
    "        \n",
    "        if not np.array_equal(points, reference):\n",
    "            points = register_outline_with_icp(reference_points, points, edges)\n",
    "            points, edges = gh.normalize_outline(points, edges)\n",
    "        registered.append({\n",
    "            'label': outline['label'],\n",
    "            'filename': outline['filename'],\n",
    "            'points': points,\n",
    "            'edges': edges\n",
    "        })\n",
    "    \n",
    "    return registered"
   ]
  },
  {
   "cell_type": "code",
   "execution_count": 15,
   "metadata": {
    "collapsed": false
   },
   "outputs": [],
   "source": [
    "registered = do_registration(glob(DATA_PATH + '*.npz'))"
   ]
  },
  {
   "cell_type": "code",
   "execution_count": 25,
   "metadata": {
    "collapsed": false
   },
   "outputs": [
    {
     "data": {
      "text/plain": [
       "(<matplotlib.figure.Figure at 0x7f2b1ead4990>,\n",
       " <matplotlib.axes._subplots.AxesSubplot at 0x7f2b1ead4f90>)"
      ]
     },
     "execution_count": 25,
     "metadata": {},
     "output_type": "execute_result"
    }
   ],
   "source": [
    "dh.outlines(plt, registered)"
   ]
  },
  {
   "cell_type": "code",
   "execution_count": 7,
   "metadata": {
    "collapsed": false
   },
   "outputs": [
    {
     "data": {
      "text/plain": [
       "(<matplotlib.figure.Figure at 0x30e9f978>,\n",
       " <matplotlib.axes._subplots.AxesSubplot at 0x3259a5f8>)"
      ]
     },
     "execution_count": 7,
     "metadata": {},
     "output_type": "execute_result"
    }
   ],
   "source": [
    "temp = []\n",
    "for outline in registered:\n",
    "    points = extract_spline(outline['points'])\n",
    "    edges = np.zeros((points.shape[0], 2), dtype=np.int)\n",
    "    edges[:, 0] = range(0, points.shape[0])\n",
    "    edges[:, 1] = range(1, points.shape[0]+1)\n",
    "    edges[-1, 1] = 0\n",
    "    #print(points)\n",
    "    temp.append({\n",
    "        'label': outline['label'],\n",
    "        'filename': outline['filename'],\n",
    "        'points': points,\n",
    "        'edges': edges\n",
    "    })\n",
    "    temp.append({\n",
    "        'label': outline['label'] + '_org',\n",
    "        'filename': outline['filename'],\n",
    "        'points': outline['points'],\n",
    "        'edges': outline['edges']\n",
    "    })\n",
    "dh.outlines(plt, temp, show_direction=True)"
   ]
  },
  {
   "cell_type": "code",
   "execution_count": 19,
   "metadata": {
    "collapsed": true
   },
   "outputs": [],
   "source": [
    "for outline in registered:\n",
    "    basename = os.path.basename(outline['filename'])\n",
    "    destination = os.path.join(TO_PATH, basename)\n",
    "    \n",
    "    np.savez(destination, points=outline['points'], edges=outline['edges'])"
   ]
  },
  {
   "cell_type": "code",
   "execution_count": null,
   "metadata": {
    "collapsed": true
   },
   "outputs": [],
   "source": []
  }
 ],
 "metadata": {
  "kernelspec": {
   "display_name": "Python 2",
   "language": "python",
   "name": "python2"
  },
  "language_info": {
   "codemirror_mode": {
    "name": "ipython",
    "version": 2
   },
   "file_extension": ".py",
   "mimetype": "text/x-python",
   "name": "python",
   "nbconvert_exporter": "python",
   "pygments_lexer": "ipython2",
   "version": "2.7.9"
  }
 },
 "nbformat": 4,
 "nbformat_minor": 0
}
