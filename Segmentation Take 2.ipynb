{
 "metadata": {
  "name": "",
  "signature": "sha256:b30e7fe5411e57b10dc08fe87f7d9f8ce70fe6bc4b412660c64a6745ef599f67"
 },
 "nbformat": 3,
 "nbformat_minor": 0,
 "worksheets": [
  {
   "cells": [
    {
     "cell_type": "code",
     "collapsed": false,
     "input": [
      "%pylab qt\n",
      "\n",
      "from skimage import io, color, img_as_ubyte\n",
      "\n",
      "base_path = '/media/lau/FLASH DRIVE/Masterarbeit/Daten/2D/Talus_dorsal/'\n",
      "files = [\n",
      "    {\n",
      "        'description': 'Low Contrast',\n",
      "        'filename': 'GSR2013-9L.JPG',\n",
      "    },\n",
      "    {\n",
      "        'description': 'Low Contrast with Corrosion',\n",
      "        'filename': 'GSR2013-44L.JPG',\n",
      "    },\n",
      "    {\n",
      "        'description': 'Very Low Contrast, with Hole',\n",
      "        'filename': 'MiZ08-465L_11.JPG',\n",
      "    },\n",
      "    {\n",
      "        'description': 'Good Contrast, Blue Background',\n",
      "        'filename': 'G\u00d6_3_2000_3_L.JPG',\n",
      "    },\n",
      "    {\n",
      "        'description': 'Dark Bone with Texture',\n",
      "        'filename': 'G\u00d6_i_2000_1_L.JPG',\n",
      "    },\n",
      "    {\n",
      "        'description': 'Dark Bone',\n",
      "        'filename': 'G\u00d6_p_2013_188L.JPG',\n",
      "    },\n",
      "]\n",
      "\n",
      "for file in files:\n",
      "    rgb_image = io.imread(base_path + file['filename'])\n",
      "    hsv_image = color.rgb2hsv(rgb_image)\n",
      "    \n",
      "    file['rgb'] = rgb_image\n",
      "    file['hsv'] = hsv_image"
     ],
     "language": "python",
     "metadata": {},
     "outputs": [
      {
       "output_type": "stream",
       "stream": "stdout",
       "text": [
        "Populating the interactive namespace from numpy and matplotlib\n"
       ]
      }
     ],
     "prompt_number": 1
    },
    {
     "cell_type": "code",
     "collapsed": false,
     "input": [
      "%pylab qt\n",
      "\n",
      "import numpy as np\n",
      "from skiimage.filter.rank import median\n",
      "\n",
      "mu = 0.75\n",
      "\n",
      "for file in files:\n",
      "    smoothed_hsv = median(file['hsv'][:, :, 0], disk(50))\n",
      "    threshold = mu * np.median(smoothed_hsv)\n",
      "    \n",
      "    "
     ],
     "language": "python",
     "metadata": {},
     "outputs": []
    },
    {
     "cell_type": "code",
     "collapsed": false,
     "input": [
      "%pylab qt\n",
      "\n",
      "from skimage.morphology import disk\n",
      "from skimage.filter.rank import enhance_contrast, entropy, mean_bilateral, median, minimum, threshold, tophat, bottomhat\n",
      "\n",
      "for file in files:\n",
      "    smoothed_hsv = median(file['hsv'][:, :, 0], disk(50))\n",
      "    enhanced_hsv = minimum(smoothed_hsv, disk(50))\n",
      "\n",
      "    fig, ax = plt.subplots(2, 2)\n",
      "\n",
      "    ax[0][0].imshow(file['rgb'])\n",
      "    ax[0][0].set_title(\"RGB\")\n",
      "    ax[0][1].imshow(color.gray2rgb(file['hsv'][:, :, 0]))\n",
      "    ax[0][1].set_title(\"HSV 1\")\n",
      "    ax[1][0].imshow(color.gray2rgb(smoothed_hsv))\n",
      "    ax[1][0].set_title(\"Smoothed\")\n",
      "    ax[1][1].imshow(color.gray2rgb(enhanced_hsv))\n",
      "    ax[1][1].set_title(\"Enhanced\")"
     ],
     "language": "python",
     "metadata": {},
     "outputs": [
      {
       "output_type": "stream",
       "stream": "stdout",
       "text": [
        "Populating the interactive namespace from numpy and matplotlib\n"
       ]
      },
      {
       "output_type": "stream",
       "stream": "stderr",
       "text": [
        "WARNING: pylab import has clobbered these variables: ['entropy', 'median']\n",
        "`%matplotlib` prevents importing * from pylab and numpy\n"
       ]
      }
     ],
     "prompt_number": 10
    },
    {
     "cell_type": "code",
     "collapsed": false,
     "input": [],
     "language": "python",
     "metadata": {},
     "outputs": []
    }
   ],
   "metadata": {}
  }
 ]
}