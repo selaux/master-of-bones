{
 "cells": [
  {
   "cell_type": "code",
   "execution_count": 9,
   "metadata": {
    "collapsed": false
   },
   "outputs": [
    {
     "name": "stdout",
     "output_type": "stream",
     "text": [
      "Populating the interactive namespace from numpy and matplotlib\n"
     ]
    },
    {
     "name": "stderr",
     "output_type": "stream",
     "text": [
      "WARNING: pylab import has clobbered these variables: ['f']\n",
      "`%matplotlib` prevents importing * from pylab and numpy\n"
     ]
    }
   ],
   "source": [
    "%pylab qt\n",
    "\n",
    "import cPickle as pickle\n",
    "import os\n",
    "import numpy as np\n",
    "from glob import glob\n",
    "from functools import partial\n",
    "import json\n",
    "\n",
    "import helpers.classes as ch\n",
    "import helpers.features as fh\n",
    "import helpers.display as dh\n",
    "import helpers.geometry as gh\n",
    "import helpers.loading as lh\n",
    "import helpers.windows\n",
    "reload(helpers.windows)\n",
    "reload(ch)\n",
    "reload(fh)\n",
    "reload(dh)\n",
    "reload(gh)\n",
    "reload(lh)\n",
    "import algorithms.comparison as cr\n",
    "reload(cr)\n",
    "\n",
    "BASE_PATH = os.getcwd()\n",
    "TO_PATH = BASE_PATH + '/Daten/2D/Synthetic/2015-06-08-overall-and-point-noise/'"
   ]
  },
  {
   "cell_type": "code",
   "execution_count": 2,
   "metadata": {
    "collapsed": false
   },
   "outputs": [],
   "source": [
    "window = dh.synthetic_model_generation()"
   ]
  },
  {
   "cell_type": "code",
   "execution_count": 10,
   "metadata": {
    "collapsed": false
   },
   "outputs": [],
   "source": [
    "def get_save_format(class_filename, definition):\n",
    "    model_index, points = definition\n",
    "    num_points = points.shape[0]\n",
    "    edges = np.zeros((num_points, 2))\n",
    "    edges[:, 0] = range(0, num_points)\n",
    "    edges[:, -1] = range(1, num_points+1)\n",
    "    edges[-1, 1] = 0\n",
    "    \n",
    "    points, edges = gh.normalize_outline(points, edges)\n",
    "    \n",
    "    outline_to_save = {\n",
    "        'filename': '{0}_{1}.pkl'.format(class_filename, model_index),\n",
    "        'done': True,\n",
    "        'points': points,\n",
    "        'edges': edges\n",
    "    }\n",
    "    \n",
    "    return outline_to_save\n",
    "\n",
    "os.mkdir(TO_PATH)\n",
    "with open(TO_PATH + 'algorithm_parameters.json','w') as f:\n",
    "    json.dump({\n",
    "        'class1': window.get_kwargs(window.class1_form),\n",
    "        'class2': window.get_kwargs(window.class2_form)\n",
    "    }, f, indent=2)\n",
    "lh.save_files(\n",
    "    TO_PATH,\n",
    "    map(partial(get_save_format, 'S1'), enumerate(window.bones1)) +\n",
    "    map(partial(get_save_format, 'S2'), enumerate(window.bones2))\n",
    ")"
   ]
  },
  {
   "cell_type": "code",
   "execution_count": null,
   "metadata": {
    "collapsed": true
   },
   "outputs": [],
   "source": []
  }
 ],
 "metadata": {
  "kernelspec": {
   "display_name": "Python 2",
   "language": "python",
   "name": "python2"
  },
  "language_info": {
   "codemirror_mode": {
    "name": "ipython",
    "version": 2
   },
   "file_extension": ".py",
   "mimetype": "text/x-python",
   "name": "python",
   "nbconvert_exporter": "python",
   "pygments_lexer": "ipython2",
   "version": "2.7.10"
  }
 },
 "nbformat": 4,
 "nbformat_minor": 0
}
