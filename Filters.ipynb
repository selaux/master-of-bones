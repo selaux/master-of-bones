{
 "metadata": {
  "name": "",
  "signature": "sha256:7a8b0a0199cb18ca944c645f68862c3eb798674cbc0dbcfd164342a250804c1b"
 },
 "nbformat": 3,
 "nbformat_minor": 0,
 "worksheets": [
  {
   "cells": [
    {
     "cell_type": "code",
     "collapsed": false,
     "input": [
      "%pylab tk\n",
      "%load_ext cythonmagic\n",
      "\n",
      "import mahotas as mh\n",
      "import numpy as np\n",
      "import os\n",
      "import cv2\n",
      "import json\n",
      "from time import time\n",
      "from math import radians\n",
      "from skimage import io, color, img_as_ubyte\n",
      "from skimage.transform import rescale\n",
      "from skimage.morphology import square\n",
      "from skimage.filter import gaussian_filter\n",
      "\n",
      "BASE_PATH = os.getcwd()\n",
      "print(\"Current base path: {0}\".format(BASE_PATH))\n",
      "DATA_PATH = BASE_PATH + '/Daten/2D/Talus_dorsal_cut_2/'\n",
      "TO_PATH = BASE_PATH + '/Daten/2D/Talus_dorsal_outlined/'\n",
      "TEST_FILES = json.loads(open(BASE_PATH + '/Daten/2D/testfiles.json').read())"
     ],
     "language": "python",
     "metadata": {},
     "outputs": [
      {
       "output_type": "stream",
       "stream": "stdout",
       "text": [
        "Populating the interactive namespace from numpy and matplotlib\n",
        "Current base path: /home/l/lau/Dropbox/Masterarbeit"
       ]
      },
      {
       "output_type": "stream",
       "stream": "stdout",
       "text": [
        "\n"
       ]
      }
     ],
     "prompt_number": 1
    },
    {
     "cell_type": "code",
     "collapsed": false,
     "input": [
      "file = TEST_FILES[2]\n",
      "rgb_image = io.imread(DATA_PATH + file['filename'])\n",
      "hsv_image = color.rgb2hsv(rgb_image)\n",
      "gray_image = color.rgb2gray(rgb_image)\n",
      "\n",
      "fig, ax = plt.subplots(2)\n",
      "ax[0].imshow(rgb_image)\n",
      "ax[0].set_title(\"RGB\")\n",
      "ax[1].imshow(hsv_image)\n",
      "ax[1].set_title(\"Clusters\")"
     ],
     "language": "python",
     "metadata": {},
     "outputs": [
      {
       "metadata": {},
       "output_type": "pyout",
       "prompt_number": 2,
       "text": [
        "<matplotlib.text.Text at 0x7f9fb46541d0>"
       ]
      }
     ],
     "prompt_number": 2
    },
    {
     "cell_type": "code",
     "collapsed": false,
     "input": [],
     "language": "python",
     "metadata": {},
     "outputs": []
    }
   ],
   "metadata": {}
  }
 ]
}