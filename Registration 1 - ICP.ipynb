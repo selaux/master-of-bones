{
 "cells": [
  {
   "cell_type": "code",
   "execution_count": 8,
   "metadata": {
    "collapsed": false
   },
   "outputs": [
    {
     "name": "stdout",
     "output_type": "stream",
     "text": [
      "Populating the interactive namespace from numpy and matplotlib\n",
      "Current base path: /home/stefan/Dropbox/Masterarbeit\n"
     ]
    }
   ],
   "source": [
    "%pylab qt\n",
    "\n",
    "import gzip\n",
    "import cPickle as pickle\n",
    "import os\n",
    "import itertools\n",
    "import cv2\n",
    "import numpy as np\n",
    "from glob import glob\n",
    "from sklearn.neighbors import NearestNeighbors\n",
    "\n",
    "import helpers.classes as ch\n",
    "import helpers.features as fh\n",
    "import helpers.display as dh\n",
    "import helpers.geometry as gh\n",
    "reload(ch)\n",
    "reload(fh)\n",
    "reload(dh)\n",
    "reload(gh)\n",
    "\n",
    "BASE_PATH = os.getcwd()\n",
    "print(\"Current base path: {0}\".format(BASE_PATH))\n",
    "DATA_PATH = BASE_PATH + '/Daten/2D/Talus_dorsal_mesh_2/'\n",
    "TO_PATH = BASE_PATH + '/Daten/2D/Talus_dorsal_registered_outline/'\n",
    "\n",
    "def register_outline_with_icp(reference, points, no_iterations = 5):\n",
    "    nbrs = NearestNeighbors(n_neighbors=1, algorithm='auto').fit(reference)\n",
    "\n",
    "    for i in range(no_iterations):\n",
    "        #Find the nearest neighbours between the current source and the\n",
    "        #destination cloudpoint\n",
    "        distances, indices = nbrs.kneighbors(points)\n",
    "        indices = np.array(indices).flatten()\n",
    "        \n",
    "        #Compute the transformation between the current source\n",
    "        #and destination cloudpoint\n",
    "        R, t = gh.estimate_rigid_transform(points, reference[indices])\n",
    "        R = np.array(R)\n",
    "        t = np.array(t)\n",
    "        #Transform the previous source and update the\n",
    "        #current source cloudpoint\n",
    "        points = (np.dot(R, points.transpose())).transpose() + np.tile(t, (points.shape[0], 1))\n",
    "    \n",
    "    return points\n",
    "\n",
    "def do_registration(loaded):\n",
    "    transposed_and_scaled = []\n",
    "    registered = []\n",
    "           \n",
    "    for outline in loaded:\n",
    "        points = outline['points']\n",
    "        \n",
    "        centroid = mean(points, axis=0)\n",
    "        points = points - np.tile(centroid, (len(points), 1))\n",
    "        \n",
    "        scale = sqrt(np.sum(np.power(points, 2)) / len(points))\n",
    "        points = np.divide(points, scale)\n",
    "        \n",
    "        edges = outline['edges']\n",
    "        points, edges = gh.normalize_outline(points, outline['edges'])\n",
    "        \n",
    "        transposed_and_scaled.append({\n",
    "            'label': outline['label'],\n",
    "            'filename': outline['filename'],\n",
    "            'class': outline['class'],\n",
    "            'class_label': outline['class_label'],\n",
    "            'points': points,\n",
    "            'edges': edges\n",
    "        })\n",
    "    \n",
    "    reference = max(transposed_and_scaled, key=lambda o: o['points'].shape[0])['points']\n",
    "    for outline in transposed_and_scaled:\n",
    "        points = outline['points']\n",
    "        edges = outline['edges']\n",
    "        \n",
    "        if not np.array_equal(points, reference):\n",
    "            points = register_outline_with_icp(reference, points)\n",
    "            #points, edges = gh.normalize_outline(points, outline['edges'])\n",
    "        registered.append({\n",
    "            'label': outline['label'],\n",
    "            'filename': outline['filename'],\n",
    "            'class': outline['class'],\n",
    "            'class_label': outline['class_label'],\n",
    "            'points': points,\n",
    "            'edges': edges\n",
    "        })\n",
    "    \n",
    "    return registered"
   ]
  },
  {
   "cell_type": "code",
   "execution_count": 2,
   "metadata": {
    "collapsed": false
   },
   "outputs": [],
   "source": [
    "filenames = glob(DATA_PATH + '*.pkl')\n",
    "loaded = []\n",
    "for filename in filenames:\n",
    "    with gzip.GzipFile(filename, 'rb') as f:\n",
    "        content = pickle.load(f)\n",
    "        \n",
    "    if 'done' in content and content['done']:\n",
    "        basename = os.path.basename(filename)\n",
    "        points = content['points']\n",
    "        triangles = content['simplices']\n",
    "\n",
    "        label = ''.join([i if ord(i) < 128 else ' ' for i in basename])\n",
    "\n",
    "        cls = ch.get_class(basename)\n",
    "\n",
    "        outline_points, outline_edges = gh.extract_outline(points, triangles)\n",
    "\n",
    "        loaded.append({\n",
    "            'label': label,\n",
    "            'filename': basename,\n",
    "            'class': cls[0],\n",
    "            'class_label': cls[1],\n",
    "            'points': outline_points,\n",
    "            'edges': outline_edges\n",
    "        })"
   ]
  },
  {
   "cell_type": "code",
   "execution_count": 3,
   "metadata": {
    "collapsed": false
   },
   "outputs": [],
   "source": [
    "filtered = ch.filter_by_classes(loaded, [ 2, 3 ])"
   ]
  },
  {
   "cell_type": "code",
   "execution_count": 9,
   "metadata": {
    "collapsed": false
   },
   "outputs": [
    {
     "name": "stdout",
     "output_type": "stream",
     "text": [
      "Reflection detected\n",
      "Reflection detected\n",
      "Reflection detected\n",
      "Reflection detected\n",
      "Reflection detected\n",
      "Reflection detected\n",
      "Reflection detected\n",
      "Reflection detected\n",
      "Reflection detected\n",
      "Reflection detected\n",
      "Reflection detected\n",
      "Reflection detected\n",
      "Reflection detected\n",
      "Reflection detected\n"
     ]
    }
   ],
   "source": [
    "registered = do_registration(filtered)"
   ]
  },
  {
   "cell_type": "code",
   "execution_count": 11,
   "metadata": {
    "collapsed": false
   },
   "outputs": [
    {
     "data": {
      "text/plain": [
       "<helpers.windows.VTKWindow at 0x7fad130b8510>"
      ]
     },
     "execution_count": 11,
     "metadata": {},
     "output_type": "execute_result"
    }
   ],
   "source": [
    "dh.outlines(registered, color_by_class=True)"
   ]
  },
  {
   "cell_type": "code",
   "execution_count": 3,
   "metadata": {
    "collapsed": false
   },
   "outputs": [],
   "source": [
    "for outline in registered:\n",
    "    basename = os.path.basename(outline['filename'])\n",
    "    destination = os.path.join(TO_PATH, basename)\n",
    "    \n",
    "    np.savez(destination, points=outline['points'], edges=outline['edges'])"
   ]
  },
  {
   "cell_type": "code",
   "execution_count": null,
   "metadata": {
    "collapsed": false
   },
   "outputs": [],
   "source": []
  }
 ],
 "metadata": {
  "kernelspec": {
   "display_name": "Python 2",
   "language": "python",
   "name": "python2"
  },
  "language_info": {
   "codemirror_mode": {
    "name": "ipython",
    "version": 2
   },
   "file_extension": ".py",
   "mimetype": "text/x-python",
   "name": "python",
   "nbconvert_exporter": "python",
   "pygments_lexer": "ipython2",
   "version": "2.7.9"
  }
 },
 "nbformat": 4,
 "nbformat_minor": 0
}
