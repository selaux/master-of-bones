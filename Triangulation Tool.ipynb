{
 "metadata": {
  "kernelspec": {
   "display_name": "Python 2",
   "language": "python",
   "name": "python2"
  },
  "language_info": {
   "codemirror_mode": {
    "name": "ipython",
    "version": 2
   },
   "file_extension": ".py",
   "mimetype": "text/x-python",
   "name": "python",
   "nbconvert_exporter": "python",
   "pygments_lexer": "ipython2",
   "version": "2.7.9"
  },
  "name": "",
  "signature": "sha256:ef929842619d8c02449f738b921fa3ac1cfc594572d6ede549fa65adb7a5ef1c"
 },
 "nbformat": 3,
 "nbformat_minor": 0,
 "worksheets": [
  {
   "cells": [
    {
     "cell_type": "code",
     "collapsed": false,
     "input": [
      "%pylab qt4\n",
      "%load_ext Cython\n",
      "\n",
      "import importlib\n",
      "import numpy as np\n",
      "import gzip\n",
      "import pickle\n",
      "import os\n",
      "from glob import glob\n",
      "import json\n",
      "from time import time\n",
      "from skimage import io, color\n",
      "from scipy.spatial import Delaunay\n",
      "from matplotlib.widgets import Cursor, Button\n",
      "\n",
      "from helpers import * \n",
      "for x in [wh, dh, fh, gh, ch, mh]:\n",
      "    reload(x) \n",
      "\n",
      "BASE_PATH = os.getcwd()\n",
      "print(\"Current base path: {0}\".format(BASE_PATH))\n",
      "DATA_PATH = BASE_PATH + '/Daten/2D/Talus_dorsal_cut_2/'\n",
      "TH_PATH = BASE_PATH + '/Daten/2D/Talus_dorsal_cut_and_thresholded_and_clustered/'\n",
      "TO_PATH = BASE_PATH + '/Daten/2D/Talus_dorsal_mesh_2/'\n",
      "\n",
      "ALPHA = 25\n",
      "\n",
      "\n",
      "def do_triangulation(bone_pixels):\n",
      "    indices_of_bone_pixels = np.nonzero(bone_pixels)\n",
      "    indices_of_bone_pixels = np.vstack(indices_of_bone_pixels).transpose()\n",
      "    indices_of_bone_pixels[:, 0] = bone_pixels.shape[0] - indices_of_bone_pixels[:,0]\n",
      "    \n",
      "    #tb = time()\n",
      "    triangulation = Delaunay(indices_of_bone_pixels)\n",
      "    #print(time() - tb)\n",
      "    to_delete = alpha_shape_unique(triangulation.points[triangulation.simplices], alpha=ALPHA)\n",
      "    triangulation.simplices = np.delete(triangulation.simplices, to_delete, axis=0)\n",
      "    #print(time() - tb)\n",
      "    \n",
      "    return triangulation"
     ],
     "language": "python",
     "metadata": {},
     "outputs": [
      {
       "output_type": "stream",
       "stream": "stdout",
       "text": [
        "Populating the interactive namespace from numpy and matplotlib\n",
        "The Cython extension is already loaded. To reload it, use:\n",
        "  %reload_ext Cython\n",
        "Current base path: /home/stefan/Dropbox/Masterarbeit\n"
       ]
      },
      {
       "output_type": "stream",
       "stream": "stderr",
       "text": [
        "WARNING: pylab import has clobbered these variables: ['display']\n",
        "`%matplotlib` prevents importing * from pylab and numpy\n"
       ]
      }
     ],
     "prompt_number": 7
    },
    {
     "cell_type": "code",
     "collapsed": false,
     "input": [
      "%%cython\n",
      "\n",
      "cimport numpy as np\n",
      "import numpy as np\n",
      "cimport cython\n",
      "from libc.math cimport sqrt\n",
      "\n",
      "\n",
      "@cython.boundscheck(False)\n",
      "@cython.wraparound(False)\n",
      "\n",
      "def alpha_shape_unique(np.ndarray[np.float64_t, ndim=3] simplices, float alpha=25):\n",
      "    cdef np.ndarray[np.float64_t, ndim=1] pa\n",
      "    cdef np.ndarray[np.float64_t, ndim=1] pb\n",
      "    cdef np.ndarray[np.float64_t, ndim=1] pc\n",
      "    cdef float a, b, c, s, area, circum_r\n",
      "    cdef list triangles_to_delete\n",
      "    cdef unsigned int index\n",
      "    \n",
      "    triangles_to_delete = []\n",
      "    index = 0\n",
      "    length = len(simplices)\n",
      "    while index < length:\n",
      "        pa = simplices[index, 0, :]\n",
      "        pb = simplices[index, 1, :]\n",
      "        pc = simplices[index, 2, :]\n",
      "        # Lengths of sides of triangle\n",
      "        a = sqrt((pa[0]-pb[0])**2 + (pa[1]-pb[1])**2)\n",
      "        b = sqrt((pb[0]-pc[0])**2 + (pb[1]-pc[1])**2)\n",
      "        c = sqrt((pc[0]-pa[0])**2 + (pc[1]-pa[1])**2)\n",
      "        # Semiperimeter of triangle\n",
      "        s = (a + b + c)/2.0\n",
      "        # Area of triangle by Heronc's formula\n",
      "        area = sqrt(s*(s-a)*(s-b)*(s-c))\n",
      "        if area == 0.0:\n",
      "            triangles_to_delete.append(index)\n",
      "        else:\n",
      "            circum_r = a*b*c/(4.0*area)\n",
      "            # Here's the radius filter.\n",
      "            if circum_r > alpha:\n",
      "                triangles_to_delete.append(index)\n",
      "        index += 1\n",
      "    return triangles_to_delete"
     ],
     "language": "python",
     "metadata": {},
     "outputs": [],
     "prompt_number": 2
    },
    {
     "cell_type": "code",
     "collapsed": false,
     "input": [
      "all_files = glob(TH_PATH + '*')\n",
      "loaded = []\n",
      "for filename in all_files:\n",
      "    basename = os.path.splitext(os.path.basename(filename))[0]\n",
      "    edited_path = TO_PATH + basename + '.pkl'\n",
      "    rgb_image_path = glob(DATA_PATH + basename + '*')[0]\n",
      "    edited = os.path.exists(edited_path)\n",
      "    cls_id, cls = ch.get_class(basename)\n",
      "    \n",
      "    if edited:\n",
      "        with gzip.GzipFile(edited_path, 'rb') as f:\n",
      "            content = pickle.load(f)\n",
      "            done = 'done' in content and content['done']\n",
      "            bone_pixels = content['bone_pixels']\n",
      "    else:\n",
      "        done = False\n",
      "        bone_pixels = io.imread(filename)\n",
      "    \n",
      "    loaded.append({\n",
      "        'filename': basename,\n",
      "        'save_path': edited_path,\n",
      "        'image': io.imread(rgb_image_path),\n",
      "        'class_id': cls_id,\n",
      "        'class_short': ch.get_class_short(cls_id),\n",
      "        'class': cls,\n",
      "        'done': done,\n",
      "        'edited': edited,\n",
      "        'bone_pixels': bone_pixels\n",
      "    })"
     ],
     "language": "python",
     "metadata": {},
     "outputs": [],
     "prompt_number": 3
    },
    {
     "cell_type": "code",
     "collapsed": false,
     "input": [
      "dh.triangulation(loaded, do_triangulation)"
     ],
     "language": "python",
     "metadata": {},
     "outputs": [],
     "prompt_number": 8
    },
    {
     "cell_type": "code",
     "collapsed": false,
     "input": [],
     "language": "python",
     "metadata": {},
     "outputs": []
    }
   ],
   "metadata": {}
  }
 ]
}