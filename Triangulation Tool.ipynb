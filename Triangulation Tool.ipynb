{
 "cells": [
  {
   "cell_type": "code",
   "execution_count": 105,
   "metadata": {
    "collapsed": false
   },
   "outputs": [
    {
     "name": "stdout",
     "output_type": "stream",
     "text": [
      "\n",
      "Populating the interactive namespace from numpy and matplotlib\n",
      "The cythonmagic extension is already loaded. To reload it, use:\n",
      "  %reload_ext cythonmagic\n",
      "Current base path: /home/stefan/Dropbox/Masterarbeit\n"
     ]
    }
   ],
   "source": [
    "%pylab tk\n",
    "%load_ext cythonmagic\n",
    "\n",
    "import importlib\n",
    "import numpy as np\n",
    "import os\n",
    "from glob import glob\n",
    "import json\n",
    "from time import time\n",
    "from skimage import io, color\n",
    "from scipy.spatial import Delaunay\n",
    "from matplotlib.widgets import Cursor, Button\n",
    "\n",
    "import helpers.features as fh\n",
    "import helpers.display as dh\n",
    "import helpers.geometry as gh\n",
    "reload(fh)\n",
    "reload(dh)\n",
    "reload(gh)\n",
    "\n",
    "BASE_PATH = os.getcwd()\n",
    "print(\"Current base path: {0}\".format(BASE_PATH))\n",
    "DATA_PATH = BASE_PATH + '/Daten/2D/Talus_dorsal_cut_2/'\n",
    "TH_PATH = BASE_PATH + '/Daten/2D/Talus_dorsal_cut_and_thresholded_and_clustered/'\n",
    "TO_PATH = BASE_PATH + '/Daten/2D/Talus_dorsal_mesh/'\n",
    "\n",
    "ALPHA = 25\n",
    "\n",
    "def do_triangulation(bone_pixels):\n",
    "    indices_of_bone_pixels = np.nonzero(bone_pixels)\n",
    "    indices_of_bone_pixels = np.vstack(indices_of_bone_pixels).transpose()\n",
    "    \n",
    "    #tb = time()\n",
    "    triangulation = Delaunay(indices_of_bone_pixels)\n",
    "    #print(time() - tb)\n",
    "    to_delete = alpha_shape_unique(triangulation.points[triangulation.simplices], alpha=ALPHA)\n",
    "    triangulation.simplices = np.delete(triangulation.simplices, to_delete, axis=0)\n",
    "    #print(time() - tb)\n",
    "    \n",
    "    return triangulation"
   ]
  },
  {
   "cell_type": "code",
   "execution_count": 102,
   "metadata": {
    "collapsed": false
   },
   "outputs": [],
   "source": [
    "%%cython\n",
    "\n",
    "cimport numpy as np\n",
    "import numpy as np\n",
    "cimport cython\n",
    "from libc.math cimport sqrt\n",
    "\n",
    "@cython.boundscheck(False)\n",
    "@cython.wraparound(False)\n",
    "def alpha_shape_unique(np.ndarray[np.float64_t, ndim=3] simplices, float alpha=25):\n",
    "    cdef np.ndarray[np.float64_t, ndim=1] pa\n",
    "    cdef np.ndarray[np.float64_t, ndim=1] pb\n",
    "    cdef np.ndarray[np.float64_t, ndim=1] pc\n",
    "    cdef float a, b, c, s, area, circum_r\n",
    "    cdef list triangles_to_delete\n",
    "    cdef unsigned int index\n",
    "    \n",
    "    triangles_to_delete = []\n",
    "    index = 0\n",
    "    length = len(simplices)\n",
    "    while index < length:\n",
    "        pa = simplices[index, 0, :]\n",
    "        pb = simplices[index, 1, :]\n",
    "        pc = simplices[index, 2, :]\n",
    "        # Lengths of sides of triangle\n",
    "        a = sqrt((pa[0]-pb[0])**2 + (pa[1]-pb[1])**2)\n",
    "        b = sqrt((pb[0]-pc[0])**2 + (pb[1]-pc[1])**2)\n",
    "        c = sqrt((pc[0]-pa[0])**2 + (pc[1]-pa[1])**2)\n",
    "        # Semiperimeter of triangle\n",
    "        s = (a + b + c)/2.0\n",
    "        # Area of triangle by Heron's formula\n",
    "        area = sqrt(s*(s-a)*(s-b)*(s-c))\n",
    "        circum_r = a*b*c/(4.0*area)\n",
    "        # Here's the radius filter.\n",
    "        if circum_r > alpha:\n",
    "            triangles_to_delete.append(index)\n",
    "        index += 1\n",
    "    return triangles_to_delete"
   ]
  },
  {
   "cell_type": "code",
   "execution_count": 106,
   "metadata": {
    "collapsed": false
   },
   "outputs": [
    {
     "name": "stdout",
     "output_type": "stream",
     "text": [
      "Editing GÖ_3_2011_15_R\n",
      "Previous\n",
      "Editing GÖ_p_2013_188L\n",
      "Previous\n",
      "Editing GÖ_i_2008_7_L"
     ]
    }
   ],
   "source": [
    "all_files = glob(TH_PATH + '*')\n",
    "loaded = []\n",
    "\n",
    "def display_triangulation(index):\n",
    "    def save_triangulation(bone_pixels):\n",
    "        tri = do_triangulation(bone_pixels)\n",
    "        io.imsave(edited_path, bone_pixels)\n",
    "        np.savez(tri_path, points=tri.points, triangles=tri.simplices)\n",
    "    def rst(ev):\n",
    "        print(\"Reset\")\n",
    "        plt.close(fig)\n",
    "        display_triangulation(index)\n",
    "    def nxt(ev):\n",
    "        print(\"Next\")\n",
    "        plt.close(fig)\n",
    "        save_triangulation(bone_pixels)\n",
    "        display_triangulation(index+1)\n",
    "    def prv(ev):\n",
    "        print(\"Previous\")\n",
    "        plt.close(fig)\n",
    "        save_triangulation(bone_pixels)\n",
    "        display_triangulation(index-1)\n",
    "    \n",
    "    filename = all_files[index]\n",
    "    basename = os.path.splitext(os.path.basename(filename))[0]\n",
    "    edited_path = TO_PATH + basename + '.png'\n",
    "    tri_path = TO_PATH + basename + '.npz'\n",
    "    rgb_image_path = glob(DATA_PATH + basename + '*')[0]\n",
    "    \n",
    "    print(\"Editing {0}\".format(basename))\n",
    "    \n",
    "    rgb_image = io.imread(rgb_image_path)\n",
    "    bone_pixels = io.imread(edited_path) if (os.path.exists(edited_path)) else io.imread(filename)\n",
    "    \n",
    "    fig, axes = dh.triangulation(plt, rgb_image, bone_pixels, do_triangulation)\n",
    "    #fig.suptitle(basename)\n",
    "    \n",
    "    axprev = fig.add_axes([0.02, 0.02, 0.25, 0.04])\n",
    "    axreset = fig.add_axes([0.375, 0.02, 0.25, 0.04])\n",
    "    axnext = fig.add_axes([0.73, 0.02, 0.25, 0.04])\n",
    "    bnext = Button(axnext, 'Next')\n",
    "    bnext.on_clicked(nxt)\n",
    "    breset = Button(axreset, 'Reset')\n",
    "    breset.on_clicked(rst)\n",
    "    bprev = Button(axprev, 'Previous')\n",
    "    bprev.on_clicked(prv)\n",
    "    \n",
    "    fig._bnext = bnext\n",
    "    fig._breset = breset\n",
    "    fig._bprev = bprev\n",
    "    \n",
    "    #fig_manager = plt.get_current_fig_manager()\n",
    "    #fig_manager.window.showMaximized()\n",
    "    \n",
    "display_triangulation(0)"
   ]
  },
  {
   "cell_type": "code",
   "execution_count": null,
   "metadata": {
    "collapsed": false
   },
   "outputs": [],
   "source": []
  },
  {
   "cell_type": "code",
   "execution_count": null,
   "metadata": {
    "collapsed": false
   },
   "outputs": [],
   "source": []
  }
 ],
 "metadata": {
  "kernelspec": {
   "display_name": "Python 2",
   "language": "python",
   "name": "python2"
  },
  "language_info": {
   "codemirror_mode": {
    "name": "ipython",
    "version": 2
   },
   "file_extension": ".py",
   "mimetype": "text/x-python",
   "name": "python",
   "nbconvert_exporter": "python",
   "pygments_lexer": "ipython2",
   "version": "2.7.9"
  }
 },
 "nbformat": 4,
 "nbformat_minor": 0
}
