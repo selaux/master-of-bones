{
 "metadata": {
  "name": "",
  "signature": "sha256:ed8ce793741dcf06755afe014c5698c1afbca410ea390f1aa5c40ea69e29cb87"
 },
 "nbformat": 3,
 "nbformat_minor": 0,
 "worksheets": [
  {
   "cells": [
    {
     "cell_type": "code",
     "collapsed": false,
     "input": [
      "%pylab tk\n",
      "%load_ext cythonmagic"
     ],
     "language": "python",
     "metadata": {},
     "outputs": [
      {
       "output_type": "stream",
       "stream": "stdout",
       "text": [
        "Populating the interactive namespace from numpy and matplotlib\n"
       ]
      }
     ],
     "prompt_number": 1
    },
    {
     "cell_type": "code",
     "collapsed": false,
     "input": [
      "import numpy as np\n",
      "import os\n",
      "import json\n",
      "from time import time\n",
      "from skimage import io, color, img_as_float\n",
      "from skimage.filter.rank import median\n",
      "from skimage.morphology import disk\n",
      "from scipy.cluster.vq import kmeans, whiten\n",
      "\n",
      "from helpers import features as fh\n",
      "\n",
      "BASE_PATH = os.getcwd()\n",
      "print(\"Current base path: {0}\".format(BASE_PATH))\n",
      "DATA_PATH = BASE_PATH + '/Daten/2D/Talus_dorsal_cut/'\n",
      "TO_PATH = BASE_PATH + '/Daten/2D/Talus_dorsal_outlined/'\n",
      "TEST_FILES = json.loads(open(BASE_PATH + '/Daten/2D/testfiles.json').read())\n",
      "\n",
      "PERCENTAGE_OF_CERTAIN_BONE_PIXELS = [ 0.5, 0.5 ]\n",
      "NUMBER_OF_CLUSTERS = 5\n",
      "BORDER_SIZE = 25\n",
      "\n",
      "def calculate_certain_bone_pixels(image):\n",
      "    one_color = image[:,:,0]\n",
      "    certain_bone_pixels = np.full_like(one_color, False, bool)\n",
      "    \n",
      "    center = np.round(np.multiply(one_color.shape, 0.5))\n",
      "    half_window_size = np.round(np.multiply(np.multiply(PERCENTAGE_OF_CERTAIN_BONE_PIXELS, 0.5), one_color.shape))\n",
      "    \n",
      "    certain_bone_pixels[\n",
      "        center[0]-half_window_size[0]:center[0]+half_window_size[0],\n",
      "        center[1]-half_window_size[1]:center[1]+half_window_size[1]\n",
      "    ] = True\n",
      "    \n",
      "    return certain_bone_pixels\n",
      "\n",
      "def cluster_centroids_in_certain_bone_pixels(image, certain_bone_pixels):\n",
      "    certain_bone = image[certain_bone_pixels]\n",
      "    centroids, compactness = kmeans(certain_bone, NUMBER_OF_CLUSTERS)\n",
      "    return np.array(centroids)\n",
      "\n",
      "def calculate_certain_non_bone_pixels(hsv_image):\n",
      "    certain_non_bone_pixels = np.full_like(hsv_image[:, :, 0], False, bool)\n",
      "    certain_non_bone_pixels[0:BORDER_SIZE,:] = True\n",
      "    certain_non_bone_pixels[-BORDER_SIZE:-1,:] = True\n",
      "    certain_non_bone_pixels[:,0:BORDER_SIZE] = True\n",
      "    certain_non_bone_pixels[:,-BORDER_SIZE:-1] = True\n",
      "    \n",
      "    return certain_non_bone_pixels\n",
      "\n",
      "def calculate_min_distance_to_any_cluster(image, centroids):\n",
      "    # Optimize: Reshape to list of points -> repeat CENTROID times -> calculate per line minimum -> reshape\n",
      "    image_size = image[:,:,0].shape\n",
      "    distances = np.zeros(image_size)\n",
      "    for x in range(image_size[0]):\n",
      "        for y in range(image_size[1]):\n",
      "            distances_to_centroids = [\n",
      "                np.linalg.norm(image[x,y,:] - centroid) for centroid in centroids\n",
      "            ]\n",
      "            distances[x,y] = min(distances_to_centroids)\n",
      "    return distances"
     ],
     "language": "python",
     "metadata": {},
     "outputs": [
      {
       "output_type": "stream",
       "stream": "stdout",
       "text": [
        "Current base path: /home/l/lau/Dropbox/Masterarbeit\n"
       ]
      }
     ],
     "prompt_number": 2
    },
    {
     "cell_type": "code",
     "collapsed": false,
     "input": [
      "%%cython\n",
      "\n",
      "import numpy as np\n",
      "cimport numpy as np\n",
      "from math import sqrt\n",
      "\n",
      "def cy_calculate_min_distance_to_any_cluster(np.ndarray[np.float64_t, ndim=3] image, np.ndarray[np.float64_t, ndim=2] centroids, np.ndarray[np.float64_t, ndim=2] non_bone_centroids):\n",
      "    cdef int image_size_0 = image[:,:,0].shape[0]\n",
      "    cdef int image_size_1 = image[:,:,0].shape[1]\n",
      "    cdef int number_of_centroids = centroids.shape[0]\n",
      "    cdef np.ndarray[np.float64_t, ndim=2] distances = np.zeros((image_size_0, image_size_1))\n",
      "    cdef np.ndarray[np.float64_t, ndim=1] distances_to_centroids = np.zeros(number_of_centroids)\n",
      "    cdef np.ndarray[np.float64_t, ndim=1] distances_to_non_bone_centroids = np.zeros(number_of_centroids)\n",
      "    cdef int x, y, c\n",
      "    cdef float min_dist, max_dist, dist_to_min, dist_to_max\n",
      "    \n",
      "    for x in range(image_size_0):\n",
      "        for y in range(image_size_1):\n",
      "            min_dist = 0\n",
      "            max_dist = 0\n",
      "            for c in range(number_of_centroids):\n",
      "                dist_to_min = sqrt(\n",
      "                    (image[x,y,0] - centroids[c,0]) ** 2 +\n",
      "                    (image[x,y,1] - centroids[c,1]) ** 2 +\n",
      "                    (image[x,y,2] - centroids[c,2]) ** 2\n",
      "                )\n",
      "                dist_to_max = sqrt(\n",
      "                    (image[x,y,0] - non_bone_centroids[c,0]) ** 2 +\n",
      "                    (image[x,y,1] - non_bone_centroids[c,1]) ** 2 +\n",
      "                    (image[x,y,2] - non_bone_centroids[c,2]) ** 2\n",
      "                )\n",
      "                if min_dist > dist_to_min:\n",
      "                    min_dist = dist_to_min\n",
      "                if max_dist < dist_to_max:\n",
      "                    max_dist = dist_to_max\n",
      "            distances[x,y] = max_dist / number_of_centroids  - min_dist / number_of_centroids\n",
      "            \n",
      "    distances = distances - distances.min()\n",
      "    distances = np.divide(distances, distances.max())\n",
      "            \n",
      "    return distances"
     ],
     "language": "python",
     "metadata": {},
     "outputs": [],
     "prompt_number": 3
    },
    {
     "cell_type": "code",
     "collapsed": false,
     "input": [
      "file = TEST_FILES[2]\n",
      "ascii_filename = file['filename'].encode('ascii', 'replace')\n",
      "\n",
      "start_time = time()\n",
      "rgb_image = img_as_float(io.imread(DATA_PATH + file['filename']))\n",
      "hsv_image = img_as_float(color.rgb2hsv(rgb_image))\n",
      "xyz_image = img_as_float(color.rgb2xyz(rgb_image))\n",
      "hsv_image[:,:,1] = xyz_image[:,:,2]\n",
      "hsv_image[:,:,2] = rgb_image[:,:,2]\n",
      "print('{0} imread: {1}s'.format(ascii_filename, time() - start_time))\n",
      "\n",
      "start_time = time()\n",
      "certain_bone_pixels = calculate_certain_bone_pixels(xyz_image)\n",
      "print('{0} certain_bone_pixels: {1}s'.format(ascii_filename, time() - start_time))\n",
      "\n",
      "start_time = time()\n",
      "certain_non_bone_pixels = calculate_certain_non_bone_pixels(xyz_image)\n",
      "print('{0} certain_non_bone_pixels: {1}s'.format(ascii_filename, time() - start_time))\n",
      "\n",
      "start_time = time()\n",
      "centroids = cluster_centroids_in_certain_bone_pixels(xyz_image, certain_bone_pixels)\n",
      "print('{0} centroids: {1}s'.format(ascii_filename, time() - start_time))\n",
      "\n",
      "start_time = time()\n",
      "non_bone_centroids = cluster_centroids_in_certain_bone_pixels(xyz_image, certain_non_bone_pixels)\n",
      "print('{0} centroids_non_bone: {1}s'.format(ascii_filename, time() - start_time))\n",
      "\n",
      "start_time = time()\n",
      "min_distances_to_any_cluster  = cy_calculate_min_distance_to_any_cluster(xyz_image, centroids, non_bone_centroids)\n",
      "print('{0} min_distances_to_any_cluster: {1}s'.format(ascii_filename, time() - start_time))\n",
      "\n",
      "watershed_config = np.copy(rgb_image)\n",
      "watershed_config[:,:,0][certain_bone_pixels] = 1\n",
      "watershed_config[:,:,1][certain_non_bone_pixels] = 1\n",
      "\n",
      "fig, ax = plt.subplots(1, 3)\n",
      "ax[0].imshow(rgb_image)\n",
      "ax[0].set_title(\"{0} RGB\".format(file['description']))\n",
      "ax[1].imshow(color.gray2rgb(watershed_config))\n",
      "ax[1].set_title(\"Certain Bone\")\n",
      "ax[2].imshow(color.gray2rgb(min_distances_to_any_cluster))\n",
      "ax[2].set_title(\"Distance to any bone cluster\")"
     ],
     "language": "python",
     "metadata": {},
     "outputs": [
      {
       "output_type": "stream",
       "stream": "stdout",
       "text": [
        "MiZ08-465L_11.JPG imread: 1.42750906944s\n",
        "MiZ08-465L_11.JPG certain_bone_pixels: 0.000416994094849s\n",
        "MiZ08-465L_11.JPG certain_non_bone_pixels: 0.000345945358276s\n",
        "MiZ08-465L_11.JPG centroids: 15.0609369278s"
       ]
      },
      {
       "output_type": "stream",
       "stream": "stdout",
       "text": [
        "\n",
        "MiZ08-465L_11.JPG centroids_non_bone: 3.07557487488s"
       ]
      },
      {
       "output_type": "stream",
       "stream": "stdout",
       "text": [
        "\n",
        "MiZ08-465L_11.JPG min_distances_to_any_cluster: 1.01356387138s"
       ]
      },
      {
       "output_type": "stream",
       "stream": "stdout",
       "text": [
        "\n"
       ]
      },
      {
       "metadata": {},
       "output_type": "pyout",
       "prompt_number": 5,
       "text": [
        "<matplotlib.text.Text at 0x7f2c13fdd7d0>"
       ]
      }
     ],
     "prompt_number": 5
    },
    {
     "cell_type": "code",
     "collapsed": false,
     "input": [],
     "language": "python",
     "metadata": {},
     "outputs": []
    }
   ],
   "metadata": {}
  }
 ]
}