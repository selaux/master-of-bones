{
 "metadata": {
  "name": "",
  "signature": "sha256:6cbfcf88360b43ff3bc77af03f6b9e69975f6947dd5ed6e13bdc3664ab5b813b"
 },
 "nbformat": 3,
 "nbformat_minor": 0,
 "worksheets": [
  {
   "cells": [
    {
     "cell_type": "code",
     "collapsed": false,
     "input": [
      "%pylab tk\n",
      "\n",
      "import numpy as np\n",
      "import os\n",
      "import cv2\n",
      "import json\n",
      "from time import time\n",
      "from skimage.segmentation import felzenszwalb\n",
      "from skimage import io, color, filter, img_as_float\n",
      "from skimage.measure import regionprops\n",
      "from skimage.morphology import disk\n",
      "from scipy.cluster.vq import kmeans, whiten\n",
      "\n",
      "BASE_PATH = os.getcwd()\n",
      "print(\"Current base path: {0}\".format(BASE_PATH))\n",
      "DATA_PATH = BASE_PATH + '/Daten/2D/Talus_dorsal_cut/'\n",
      "TO_PATH = BASE_PATH + '/Daten/2D/Talus_dorsal_outlined/'\n",
      "TEST_FILES = json.loads(open(BASE_PATH + '/Daten/2D/testfiles.json').read())\n",
      "\n",
      "SCALE = 50\n",
      "SIGMA = 0.8\n",
      "\n",
      "def calculate_felzenszwalb(image):\n",
      "   return felzenszwalb(image, SCALE, SIGMA)\n",
      "\n",
      "def find_largest_label(labels):   \n",
      "    label_props = regionprops(labels)\n",
      "    label_with_max_area = label_props[0]\n",
      "    for labelprop in label_props:\n",
      "        if label_with_max_area.area <= labelprop.area:\n",
      "            label_with_max_area = labelprop\n",
      "    return labels == label_with_max_area.label"
     ],
     "language": "python",
     "metadata": {},
     "outputs": [
      {
       "output_type": "stream",
       "stream": "stdout",
       "text": [
        "Populating the interactive namespace from numpy and matplotlib\n",
        "Current base path: /media/lau/FLASH DRIVE"
       ]
      },
      {
       "output_type": "stream",
       "stream": "stdout",
       "text": [
        "\n"
       ]
      }
     ],
     "prompt_number": 1
    },
    {
     "cell_type": "code",
     "collapsed": false,
     "input": [
      "file = TEST_FILES[3]\n",
      "ascii_filename = file['filename'].encode('ascii', 'replace')\n",
      "\n",
      "start_time = time()\n",
      "rgb_image = io.imread(DATA_PATH + file['filename'])\n",
      "print('{0} imread: {1}s'.format(ascii_filename, time() - start_time))\n",
      "\n",
      "start_time = time()\n",
      "labels = calculate_felzenszwalb(rgb_image)\n",
      "print('{0} felzenszwalb: {1}s'.format(ascii_filename, time() - start_time))\n",
      "\n",
      "start_time = time()\n",
      "bone_pixels = find_largest_label(labels)\n",
      "print('{0} find_largest_label: {1}s'.format(ascii_filename, time() - start_time))\n",
      "\n",
      "result = np.copy(rgb_image)\n",
      "result[:,:,1][bone_pixels] = 255\n",
      "\n",
      "fig, ax = plt.subplots(1, 3)\n",
      "ax[0].imshow(rgb_image)\n",
      "ax[0].set_title(\"{0} RGB\".format(file['description']))\n",
      "ax[1].imshow(color.label2rgb(labels))\n",
      "ax[1].set_title(\"Labels\")\n",
      "ax[2].imshow(result)\n",
      "ax[2].set_title(\"Result\")"
     ],
     "language": "python",
     "metadata": {},
     "outputs": [
      {
       "output_type": "stream",
       "stream": "stdout",
       "text": [
        "G?_3_2000_3_L.JPG imread: 0.031583070755s\n",
        "G?_3_2000_3_L.JPG felzenszwalb: 10.628702879s"
       ]
      },
      {
       "output_type": "stream",
       "stream": "stdout",
       "text": [
        "\n",
        "G?_3_2000_3_L.JPG find_largest_label: 4.68170499802s"
       ]
      },
      {
       "output_type": "stream",
       "stream": "stdout",
       "text": [
        "\n"
       ]
      },
      {
       "metadata": {},
       "output_type": "pyout",
       "prompt_number": 3,
       "text": [
        "<matplotlib.text.Text at 0x7f59fb3fb890>"
       ]
      }
     ],
     "prompt_number": 3
    },
    {
     "cell_type": "code",
     "collapsed": false,
     "input": [],
     "language": "python",
     "metadata": {},
     "outputs": []
    }
   ],
   "metadata": {}
  }
 ]
}