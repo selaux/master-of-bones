{
 "metadata": {
  "name": "",
  "signature": "sha256:5ed749e514a03616836268510bb327f64c7d4aadc9b4a73241db081bb40e0221"
 },
 "nbformat": 3,
 "nbformat_minor": 0,
 "worksheets": [
  {
   "cells": [
    {
     "cell_type": "code",
     "collapsed": false,
     "input": [
      "%pylab tk\n",
      "\n",
      "import importlib\n",
      "import numpy as np\n",
      "import mahotas as mh\n",
      "import os\n",
      "import cv2\n",
      "import json\n",
      "from time import time\n",
      "from math import radians\n",
      "from skimage import io, color, img_as_float, img_as_ubyte, morphology, measure\n",
      "from skimage.transform import rescale\n",
      "from skimage.util import pad\n",
      "from sklearn.cluster import DBSCAN\n",
      "from scipy.cluster.vq import kmeans2\n",
      "from scipy.spatial import Delaunay, ConvexHull\n",
      "from sklearn.cluster import MiniBatchKMeans\n",
      "\n",
      "import helpers.features as fh\n",
      "import helpers.display as dh\n",
      "reload(fh)\n",
      "reload(dh)\n",
      "\n",
      "BASE_PATH = os.getcwd()\n",
      "print(\"Current base path: {0}\".format(BASE_PATH))\n",
      "DATA_PATH = BASE_PATH + '/Daten/2D/Talus_dorsal_cut_2/'\n",
      "TH_PATH = BASE_PATH + '/Daten/2D/Talus_dorsal_cut_and_thresholded/'\n",
      "TO_PATH = BASE_PATH + '/Daten/2D/Talus_dorsal_cut_and_thresholded_and_clustered/'\n",
      "TEST_FILES = json.loads(open(BASE_PATH + '/Daten/2D/testfiles.json').read())\n",
      "\n",
      "def filter_by_density_based_clustering(bone_pixels):\n",
      "    response = np.zeros_like(bone_pixels, dtype=np.uint8)\n",
      "    indices_of_bone_pixels = np.nonzero(bone_pixels)\n",
      "    indices_of_bone_pixels = np.vstack(indices_of_bone_pixels).transpose()\n",
      "    \n",
      "    db = DBSCAN(eps=25, min_samples=5).fit(indices_of_bone_pixels)\n",
      "    labels = db.labels_[db.labels_ != -1]\n",
      "    most_occuring_label = np.argmax(np.bincount(labels))\n",
      "    indices_of_points_belonging_to_largest_label = indices_of_bone_pixels[np.argwhere(db.labels_ == most_occuring_label).flatten()]\n",
      "                                                                          \n",
      "    #print(indices_of_points_belonging_to_largest_label)\n",
      "    response[indices_of_points_belonging_to_largest_label[:,0], indices_of_points_belonging_to_largest_label[:,1]] = 255\n",
      "    \n",
      "    return response\n",
      "\n",
      "def reduce_number_of_points_k_means(bone_pixels):\n",
      "    response = np.zeros_like(bone_pixels, dtype=np.uint8)\n",
      "    indices_of_bone_pixels = np.nonzero(bone_pixels)\n",
      "    indices_of_bone_pixels = np.vstack(indices_of_bone_pixels).transpose()\n",
      "    \n",
      "    feature = cv2.BRISK()\n",
      "    keypoints = feature.detect(bone_pixels)\n",
      "    for kp in keypoints:\n",
      "        x, y = round(kp.pt[0]), round(kp.pt[1])\n",
      "        response[y,x] = 255\n",
      "    \n",
      "    return response"
     ],
     "language": "python",
     "metadata": {},
     "outputs": [
      {
       "output_type": "stream",
       "stream": "stdout",
       "text": [
        "Populating the interactive namespace from numpy and matplotlib\n",
        "Current base path: C:\\Users\\Stefan\\Dropbox\\Masterarbeit"
       ]
      },
      {
       "output_type": "stream",
       "stream": "stdout",
       "text": [
        "\n"
       ]
      }
     ],
     "prompt_number": 1
    },
    {
     "cell_type": "code",
     "collapsed": false,
     "input": [
      "file = TEST_FILES[1]\n",
      "without_extension = os.path.splitext(file['filename'])[0]\n",
      "rgb_image = io.imread(DATA_PATH + file['filename'])\n",
      "bone_pixels = io.imread(TH_PATH + without_extension + '.png')"
     ],
     "language": "python",
     "metadata": {},
     "outputs": [],
     "prompt_number": 4
    },
    {
     "cell_type": "code",
     "collapsed": false,
     "input": [
      "dh.image(plt, rgb_image)"
     ],
     "language": "python",
     "metadata": {},
     "outputs": []
    },
    {
     "cell_type": "code",
     "collapsed": false,
     "input": [
      "true_bone_pixels = filter_by_density_based_clustering(bone_pixels)"
     ],
     "language": "python",
     "metadata": {},
     "outputs": [
      {
       "output_type": "stream",
       "stream": "stdout",
       "text": [
        "[[ 110 1127]\n",
        " [ 115 1169]\n",
        " [ 118 1151]\n",
        " ..., \n",
        " [1740 1079]\n",
        " [1741 1087]\n",
        " [1742 1199]]\n"
       ]
      }
     ],
     "prompt_number": 12
    },
    {
     "cell_type": "code",
     "collapsed": false,
     "input": [
      "dh.image(plt, true_bone_pixels)"
     ],
     "language": "python",
     "metadata": {},
     "outputs": [],
     "prompt_number": 16
    },
    {
     "cell_type": "code",
     "collapsed": false,
     "input": [
      "clustered_true_bone_pixels = reduce_number_of_points_k_means(true_bone_pixels)"
     ],
     "language": "python",
     "metadata": {},
     "outputs": [],
     "prompt_number": 13
    },
    {
     "cell_type": "code",
     "collapsed": false,
     "input": [
      "dh.image(plt, clustered_true_bone_pixels)"
     ],
     "language": "python",
     "metadata": {},
     "outputs": [],
     "prompt_number": 17
    },
    {
     "cell_type": "code",
     "collapsed": false,
     "input": [
      "dh.triangulation(plt, rgb_image, clustered_true_bone_pixels, do_triangulation)"
     ],
     "language": "python",
     "metadata": {},
     "outputs": [
      {
       "output_type": "stream",
       "stream": "stdout",
       "text": [
        "0.0320000648499\n",
        "0.110000133514"
       ]
      },
      {
       "output_type": "stream",
       "stream": "stdout",
       "text": [
        "\n"
       ]
      }
     ],
     "prompt_number": 14
    },
    {
     "cell_type": "code",
     "collapsed": false,
     "input": [
      "from glob import glob\n",
      "from os import path\n",
      "\n",
      "all_files = glob(TH_PATH + '*')\n",
      "\n",
      "for index, filename in enumerate(all_files):\n",
      "    basename = path.basename(filename)\n",
      "    \n",
      "    print(\"{0} - {1} of {2}\".format(basename, index+1, len(all_files)))\n",
      "    \n",
      "    bone_pixels = io.imread(filename)\n",
      "    true_bone_pixels = filter_by_density_based_clustering(bone_pixels)\n",
      "    clustered_true_bone_pixels = reduce_number_of_points_k_means(true_bone_pixels)\n",
      "    \n",
      "    io.imsave(TO_PATH + basename, clustered_true_bone_pixels)"
     ],
     "language": "python",
     "metadata": {},
     "outputs": [
      {
       "output_type": "stream",
       "stream": "stdout",
       "text": [
        "Gaz_1.png - 1 of 111\n",
        "Gaz_2.png - 2 of 111"
       ]
      },
      {
       "output_type": "stream",
       "stream": "stdout",
       "text": [
        "\n",
        "Gaz_3.png - 3 of 111"
       ]
      },
      {
       "output_type": "stream",
       "stream": "stdout",
       "text": [
        "\n",
        "Gaz_4.png - 4 of 111"
       ]
      },
      {
       "output_type": "stream",
       "stream": "stdout",
       "text": [
        "\n",
        "Gaz_5.png - 5 of 111"
       ]
      },
      {
       "output_type": "stream",
       "stream": "stdout",
       "text": [
        "\n",
        "Gaz_6.png - 6 of 111"
       ]
      },
      {
       "output_type": "stream",
       "stream": "stdout",
       "text": [
        "\n",
        "Gaz_7.png - 7 of 111"
       ]
      },
      {
       "output_type": "stream",
       "stream": "stdout",
       "text": [
        "\n",
        "Gaz_8.png - 8 of 111"
       ]
      },
      {
       "output_type": "stream",
       "stream": "stdout",
       "text": [
        "\n",
        "Gaz_9.png - 9 of 111"
       ]
      },
      {
       "output_type": "stream",
       "stream": "stdout",
       "text": [
        "\n",
        "GSR2013-100R.png - 10 of 111"
       ]
      },
      {
       "output_type": "stream",
       "stream": "stdout",
       "text": [
        "\n",
        "GSR2013-17L.png - 11 of 111"
       ]
      },
      {
       "output_type": "stream",
       "stream": "stdout",
       "text": [
        "\n",
        "GSR2013-22R.png - 12 of 111"
       ]
      },
      {
       "output_type": "stream",
       "stream": "stdout",
       "text": [
        "\n",
        "GSR2013-23R.png - 13 of 111"
       ]
      },
      {
       "output_type": "stream",
       "stream": "stdout",
       "text": [
        "\n",
        "GSR2013-39L.png - 14 of 111"
       ]
      },
      {
       "output_type": "stream",
       "stream": "stdout",
       "text": [
        "\n",
        "GSR2013-44L.png - 15 of 111"
       ]
      },
      {
       "output_type": "stream",
       "stream": "stdout",
       "text": [
        "\n",
        "GSR2013-51R.png - 16 of 111"
       ]
      },
      {
       "output_type": "stream",
       "stream": "stdout",
       "text": [
        "\n",
        "GSR2013-59L.png - 17 of 111"
       ]
      },
      {
       "output_type": "stream",
       "stream": "stdout",
       "text": [
        "\n",
        "GSR2013-68L.png - 18 of 111"
       ]
      },
      {
       "output_type": "stream",
       "stream": "stdout",
       "text": [
        "\n",
        "GSR2013-69L.png - 19 of 111"
       ]
      },
      {
       "output_type": "stream",
       "stream": "stdout",
       "text": [
        "\n",
        "GSR2013-85R.png - 20 of 111"
       ]
      },
      {
       "output_type": "stream",
       "stream": "stdout",
       "text": [
        "\n",
        "GSR2013-93L.png - 21 of 111"
       ]
      },
      {
       "output_type": "stream",
       "stream": "stdout",
       "text": [
        "\n",
        "GSR2013-96R.png - 22 of 111"
       ]
      },
      {
       "output_type": "stream",
       "stream": "stdout",
       "text": [
        "\n",
        "GSR2013-98R.png - 23 of 111"
       ]
      },
      {
       "output_type": "stream",
       "stream": "stdout",
       "text": [
        "\n",
        "GSR2013-9L.png - 24 of 111"
       ]
      },
      {
       "output_type": "stream",
       "stream": "stdout",
       "text": [
        "\n",
        "GSR2014_27_R.png - 25 of 111"
       ]
      },
      {
       "output_type": "stream",
       "stream": "stdout",
       "text": [
        "\n",
        "GSR2014_37_L.png - 26 of 111"
       ]
      },
      {
       "output_type": "stream",
       "stream": "stdout",
       "text": [
        "\n",
        "GSR2014_44_L.png - 27 of 111"
       ]
      },
      {
       "output_type": "stream",
       "stream": "stdout",
       "text": [
        "\n",
        "GSR2014_51_R.png - 28 of 111"
       ]
      },
      {
       "output_type": "stream",
       "stream": "stdout",
       "text": [
        "\n",
        "G\ufffd_2_2000_4_L.png - 29 of 111"
       ]
      },
      {
       "output_type": "stream",
       "stream": "stdout",
       "text": [
        "\n",
        "G\ufffd_2_2011_230_L.png - 30 of 111"
       ]
      },
      {
       "output_type": "stream",
       "stream": "stdout",
       "text": [
        "\n",
        "G\ufffd_2_2011_236_L.png - 31 of 111"
       ]
      },
      {
       "output_type": "stream",
       "stream": "stdout",
       "text": [
        "\n",
        "G\ufffd_3_1999_633_R.png - 32 of 111"
       ]
      },
      {
       "output_type": "stream",
       "stream": "stdout",
       "text": [
        "\n",
        "G\ufffd_3_2000_2_R.png - 33 of 111"
       ]
      },
      {
       "output_type": "stream",
       "stream": "stdout",
       "text": [
        "\n",
        "G\ufffd_3_2000_3_L.png - 34 of 111"
       ]
      },
      {
       "output_type": "stream",
       "stream": "stdout",
       "text": [
        "\n",
        "G\ufffd_3_2008_15_R.png - 35 of 111"
       ]
      },
      {
       "output_type": "stream",
       "stream": "stdout",
       "text": [
        "\n",
        "G\ufffd_3_2008_9_L.png - 36 of 111"
       ]
      },
      {
       "output_type": "stream",
       "stream": "stdout",
       "text": [
        "\n",
        "G\ufffd_3_2010_149_L.png - 37 of 111"
       ]
      },
      {
       "output_type": "stream",
       "stream": "stdout",
       "text": [
        "\n",
        "G\ufffd_3_2011_15_R.png - 38 of 111"
       ]
      },
      {
       "output_type": "stream",
       "stream": "stdout",
       "text": [
        "\n",
        "G\ufffd_3_2011_232_L.png - 39 of 111"
       ]
      },
      {
       "output_type": "stream",
       "stream": "stdout",
       "text": [
        "\n",
        "G\ufffd_3_2011_233_L.png - 40 of 111"
       ]
      },
      {
       "output_type": "stream",
       "stream": "stdout",
       "text": [
        "\n",
        "G\ufffd_3_2011_281_R.png - 41 of 111"
       ]
      },
      {
       "output_type": "stream",
       "stream": "stdout",
       "text": [
        "\n",
        "G\ufffd_3_2011_297_L.png - 42 of 111"
       ]
      },
      {
       "output_type": "stream",
       "stream": "stdout",
       "text": [
        "\n",
        "G\ufffd_3_2011_48_L.png - 43 of 111"
       ]
      },
      {
       "output_type": "stream",
       "stream": "stdout",
       "text": [
        "\n",
        "G\ufffd_3_2011_6_R.png - 44 of 111"
       ]
      },
      {
       "output_type": "stream",
       "stream": "stdout",
       "text": [
        "\n",
        "G\ufffd_3_2012_133_L.png - 45 of 111"
       ]
      },
      {
       "output_type": "stream",
       "stream": "stdout",
       "text": [
        "\n",
        "G\ufffd_3_2012_142_L.png - 46 of 111"
       ]
      },
      {
       "output_type": "stream",
       "stream": "stdout",
       "text": [
        "\n",
        "G\ufffd_3_2012_153_R.png - 47 of 111"
       ]
      },
      {
       "output_type": "stream",
       "stream": "stdout",
       "text": [
        "\n",
        "G\ufffd_3_2012_421_R.png - 48 of 111"
       ]
      },
      {
       "output_type": "stream",
       "stream": "stdout",
       "text": [
        "\n",
        "G\ufffd_3_2012_422_R.png - 49 of 111"
       ]
      },
      {
       "output_type": "stream",
       "stream": "stdout",
       "text": [
        "\n",
        "G\ufffd_3_2013_274a_L.png - 50 of 111"
       ]
      },
      {
       "output_type": "stream",
       "stream": "stdout",
       "text": [
        "\n",
        "G\ufffd_3_2013_283a_R.png - 51 of 111"
       ]
      },
      {
       "output_type": "stream",
       "stream": "stdout",
       "text": [
        "\n",
        "G\ufffd_3_L9_66_87.png - 52 of 111"
       ]
      },
      {
       "output_type": "stream",
       "stream": "stdout",
       "text": [
        "\n",
        "G\ufffd_i_2000_1_L.png - 53 of 111"
       ]
      },
      {
       "output_type": "stream",
       "stream": "stdout",
       "text": [
        "\n",
        "G\ufffd_i_2000_5_R.png - 54 of 111"
       ]
      },
      {
       "output_type": "stream",
       "stream": "stdout",
       "text": [
        "\n",
        "G\ufffd_i_2000_8_R.png - 55 of 111"
       ]
      },
      {
       "output_type": "stream",
       "stream": "stdout",
       "text": [
        "\n",
        "G\ufffd_i_2008_11_L.png - 56 of 111"
       ]
      },
      {
       "output_type": "stream",
       "stream": "stdout",
       "text": [
        "\n",
        "G\ufffd_i_2008_1_L.png - 57 of 111"
       ]
      },
      {
       "output_type": "stream",
       "stream": "stdout",
       "text": [
        "\n",
        "G\ufffd_i_2008_7_L.png - 58 of 111"
       ]
      },
      {
       "output_type": "stream",
       "stream": "stdout",
       "text": [
        "\n",
        "G\ufffd_i_2010_32_R.png - 59 of 111"
       ]
      },
      {
       "output_type": "stream",
       "stream": "stdout",
       "text": [
        "\n",
        "G\ufffd_i_2011_120_R.png - 60 of 111"
       ]
      },
      {
       "output_type": "stream",
       "stream": "stdout",
       "text": [
        "\n",
        "G\ufffd_i_2011_234_L.png - 61 of 111"
       ]
      },
      {
       "output_type": "stream",
       "stream": "stdout",
       "text": [
        "\n",
        "G\ufffd_i_2012_171_R.png - 62 of 111"
       ]
      },
      {
       "output_type": "stream",
       "stream": "stdout",
       "text": [
        "\n",
        "G\ufffd_i_2013_281b_R.png - 63 of 111"
       ]
      },
      {
       "output_type": "stream",
       "stream": "stdout",
       "text": [
        "\n",
        "G\ufffd_p_2010_120_L.png - 64 of 111"
       ]
      },
      {
       "output_type": "stream",
       "stream": "stdout",
       "text": [
        "\n",
        "G\ufffd_p_2012_117_R.png - 65 of 111"
       ]
      },
      {
       "output_type": "stream",
       "stream": "stdout",
       "text": [
        "\n",
        "G\ufffd_p_2012_122_R.png - 66 of 111"
       ]
      },
      {
       "output_type": "stream",
       "stream": "stdout",
       "text": [
        "\n",
        "G\ufffd_p_2012_188_L.png - 67 of 111"
       ]
      },
      {
       "output_type": "stream",
       "stream": "stdout",
       "text": [
        "\n",
        "G\ufffd_p_2013_115_L.png - 68 of 111"
       ]
      },
      {
       "output_type": "stream",
       "stream": "stdout",
       "text": [
        "\n",
        "G\ufffd_p_2013_188L.png - 69 of 111"
       ]
      },
      {
       "output_type": "stream",
       "stream": "stdout",
       "text": [
        "\n",
        "G\ufffd_p_2013_211R.png - 70 of 111"
       ]
      },
      {
       "output_type": "stream",
       "stream": "stdout",
       "text": [
        "\n",
        "G\ufffd001_l3_L.png - 71 of 111"
       ]
      },
      {
       "output_type": "stream",
       "stream": "stdout",
       "text": [
        "\n",
        "G\ufffd002_l3_L.png - 72 of 111"
       ]
      },
      {
       "output_type": "stream",
       "stream": "stdout",
       "text": [
        "\n",
        "G\ufffd2011_G\ufffd12_R.png - 73 of 111"
       ]
      },
      {
       "output_type": "stream",
       "stream": "stdout",
       "text": [
        "\n",
        "G\ufffd2011_G\ufffd13_R.png - 74 of 111"
       ]
      },
      {
       "output_type": "stream",
       "stream": "stdout",
       "text": [
        "\n",
        "G\ufffd2011_G\ufffd14_R.png - 75 of 111"
       ]
      },
      {
       "output_type": "stream",
       "stream": "stdout",
       "text": [
        "\n",
        "G\ufffd2011_G\ufffd15_L.png - 76 of 111"
       ]
      },
      {
       "output_type": "stream",
       "stream": "stdout",
       "text": [
        "\n",
        "G\ufffd2011_G\ufffd17_R.png - 77 of 111"
       ]
      },
      {
       "output_type": "stream",
       "stream": "stdout",
       "text": [
        "\n",
        "G\ufffd2011_G\ufffd20_R.png - 78 of 111"
       ]
      },
      {
       "output_type": "stream",
       "stream": "stdout",
       "text": [
        "\n",
        "G\ufffd2011_G\ufffd3_R.png - 79 of 111"
       ]
      },
      {
       "output_type": "stream",
       "stream": "stdout",
       "text": [
        "\n",
        "G\ufffd2011_G\ufffd4_R.png - 80 of 111"
       ]
      },
      {
       "output_type": "stream",
       "stream": "stdout",
       "text": [
        "\n",
        "G\ufffd2011_G\ufffd7_L.png - 81 of 111"
       ]
      },
      {
       "output_type": "stream",
       "stream": "stdout",
       "text": [
        "\n",
        "Ma139.png - 82 of 111"
       ]
      },
      {
       "output_type": "stream",
       "stream": "stdout",
       "text": [
        "\n",
        "Ma159L_d.png - 83 of 111"
       ]
      },
      {
       "output_type": "stream",
       "stream": "stdout",
       "text": [
        "\n",
        "Ma278L_d.png - 84 of 111"
       ]
      },
      {
       "output_type": "stream",
       "stream": "stdout",
       "text": [
        "\n",
        "Ma295R_d.png - 85 of 111"
       ]
      },
      {
       "output_type": "stream",
       "stream": "stdout",
       "text": [
        "\n",
        "Ma300.png - 86 of 111"
       ]
      },
      {
       "output_type": "stream",
       "stream": "stdout",
       "text": [
        "\n",
        "Ma318.png - 87 of 111"
       ]
      },
      {
       "output_type": "stream",
       "stream": "stdout",
       "text": [
        "\n",
        "Ma338.png - 88 of 111"
       ]
      },
      {
       "output_type": "stream",
       "stream": "stdout",
       "text": [
        "\n",
        "Ma354R_d.png - 89 of 111"
       ]
      },
      {
       "output_type": "stream",
       "stream": "stdout",
       "text": [
        "\n",
        "Ma403L_d.png - 90 of 111"
       ]
      },
      {
       "output_type": "stream",
       "stream": "stdout",
       "text": [
        "\n",
        "Ma61.png - 91 of 111"
       ]
      },
      {
       "output_type": "stream",
       "stream": "stdout",
       "text": [
        "\n",
        "Ma62.png - 92 of 111"
       ]
      },
      {
       "output_type": "stream",
       "stream": "stdout",
       "text": [
        "\n",
        "MiZ08-465L_1.png - 93 of 111"
       ]
      },
      {
       "output_type": "stream",
       "stream": "stdout",
       "text": [
        "\n",
        "MiZ08-465L_10.png - 94 of 111"
       ]
      },
      {
       "output_type": "stream",
       "stream": "stdout",
       "text": [
        "\n",
        "MiZ08-465L_11.png - 95 of 111"
       ]
      },
      {
       "output_type": "stream",
       "stream": "stdout",
       "text": [
        "\n",
        "MiZ08-465L_12.png - 96 of 111"
       ]
      },
      {
       "output_type": "stream",
       "stream": "stdout",
       "text": [
        "\n",
        "MiZ08-465L_14.png - 97 of 111"
       ]
      },
      {
       "output_type": "stream",
       "stream": "stdout",
       "text": [
        "\n",
        "MiZ08-465L_15.png - 98 of 111"
       ]
      },
      {
       "output_type": "stream",
       "stream": "stdout",
       "text": [
        "\n",
        "MiZ08-465L_3.png - 99 of 111"
       ]
      },
      {
       "output_type": "stream",
       "stream": "stdout",
       "text": [
        "\n",
        "MIZ08-465R_13.png - 100 of 111"
       ]
      },
      {
       "output_type": "stream",
       "stream": "stdout",
       "text": [
        "\n",
        "MiZ08-465R_16.png - 101 of 111"
       ]
      },
      {
       "output_type": "stream",
       "stream": "stdout",
       "text": [
        "\n",
        "MiZ08-465R_4.png - 102 of 111"
       ]
      },
      {
       "output_type": "stream",
       "stream": "stdout",
       "text": [
        "\n",
        "MiZ08-465R_5.png - 103 of 111"
       ]
      },
      {
       "output_type": "stream",
       "stream": "stdout",
       "text": [
        "\n",
        "MiZ08-465R_6.png - 104 of 111"
       ]
      },
      {
       "output_type": "stream",
       "stream": "stdout",
       "text": [
        "\n",
        "MiZ08-465R_7.png - 105 of 111"
       ]
      },
      {
       "output_type": "stream",
       "stream": "stdout",
       "text": [
        "\n",
        "MiZ08-465R_8.png - 106 of 111"
       ]
      },
      {
       "output_type": "stream",
       "stream": "stdout",
       "text": [
        "\n",
        "MiZ08-465R_9.png - 107 of 111"
       ]
      },
      {
       "output_type": "stream",
       "stream": "stdout",
       "text": [
        "\n",
        "MiZ09-113R_1.png - 108 of 111"
       ]
      },
      {
       "output_type": "stream",
       "stream": "stdout",
       "text": [
        "\n",
        "MiZ09-118L_1.png - 109 of 111"
       ]
      },
      {
       "output_type": "stream",
       "stream": "stdout",
       "text": [
        "\n",
        "MiZ09-118R_2.png - 110 of 111"
       ]
      },
      {
       "output_type": "stream",
       "stream": "stdout",
       "text": [
        "\n",
        "MiZ09-118R_3.png - 111 of 111"
       ]
      },
      {
       "output_type": "stream",
       "stream": "stdout",
       "text": [
        "\n"
       ]
      }
     ],
     "prompt_number": 2
    },
    {
     "cell_type": "code",
     "collapsed": false,
     "input": [],
     "language": "python",
     "metadata": {},
     "outputs": []
    }
   ],
   "metadata": {}
  }
 ]
}