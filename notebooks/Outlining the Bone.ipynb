{
 "metadata": {
  "name": "",
  "signature": "sha256:f8a98b422978e0181bb21e0e8d026e44081ae86984ba212a42296faa3836cab0"
 },
 "nbformat": 3,
 "nbformat_minor": 0,
 "worksheets": [
  {
   "cells": [
    {
     "cell_type": "code",
     "collapsed": false,
     "input": [
      "%pylab tk\n",
      "\n",
      "import numpy as np\n",
      "import os\n",
      "import cv2\n",
      "from time import time\n",
      "from skimage import io, color, img_as_float\n",
      "from skimage.filter.rank import median\n",
      "from skimage.morphology import disk\n",
      "from scipy.cluster.vq import kmeans, whiten\n",
      "\n",
      "BASE_PATH = os.getcwd()\n",
      "print(\"Current base path: {0}\".format(BASE_PATH))\n",
      "DATA_PATH = BASE_PATH + '/Daten/2D/Talus_dorsal_cut/'\n",
      "TO_PATH = BASE_PATH + '/Daten/2D/Talus_dorsal_outlined/'\n",
      "\n",
      "PERCENTAGE_OF_CERTAIN_BONE_PIXELS = [ 0.5, 0.5 ]\n",
      "NUMBER_OF_CLUSTERS = 3\n",
      "BORDER_SIZE = 25\n",
      "\n",
      "def calculate_certain_bone_pixels(image):\n",
      "    one_color = image[:,:,0]\n",
      "    certain_bone_pixels = np.full_like(one_color, False, bool)\n",
      "    \n",
      "    center = np.round(np.multiply(one_color.shape, 0.5))\n",
      "    half_window_size = np.round(np.multiply(np.multiply(PERCENTAGE_OF_CERTAIN_BONE_PIXELS, 0.5), one_color.shape))\n",
      "    \n",
      "    certain_bone_pixels[\n",
      "        center[0]-half_window_size[0]:center[0]+half_window_size[0],\n",
      "        center[1]-half_window_size[1]:center[1]+half_window_size[1]\n",
      "    ] = True\n",
      "    \n",
      "    return certain_bone_pixels\n",
      "\n",
      "def cluster_centroids_in_certain_bone_pixels(image, certain_bone_pixels):\n",
      "    certain_bone = image[certain_bone_pixels]\n",
      "    centroids, compactness = kmeans(certain_bone, NUMBER_OF_CLUSTERS)\n",
      "    return np.array(centroids)\n",
      "\n",
      "def calculate_certain_non_bone_pixels(hsv_image):\n",
      "    certain_non_bone_pixels = np.full_like(hsv_image[:, :, 0], False, bool)\n",
      "    certain_non_bone_pixels[0:BORDER_SIZE,:] = True\n",
      "    certain_non_bone_pixels[-BORDER_SIZE:-1,:] = True\n",
      "    certain_non_bone_pixels[:,0:BORDER_SIZE] = True\n",
      "    certain_non_bone_pixels[:,-BORDER_SIZE:-1] = True\n",
      "    \n",
      "    return certain_non_bone_pixels\n",
      "\n",
      "def calculate_min_distance_to_any_cluster(image, centroids):\n",
      "    # Optimize: Reshape to list of points -> repeat CENTROID times -> calculate per line minimum -> reshape\n",
      "    image_size = image[:,:,0].shape\n",
      "    distances = np.zeros(image_size)\n",
      "    for x in range(image_size[0]):\n",
      "        for y in range(image_size[1]):\n",
      "            distances_to_centroids = [\n",
      "                np.linalg.norm(image[x,y,:] - centroid) for centroid in centroids\n",
      "            ]\n",
      "            distances[x,y] = min(distances_to_centroids)\n",
      "    return distances\n",
      "\n",
      "def calculate_min_distance_to_any_cluster(image, centroids):\n",
      "    image_size = image[:,:,0].shape\n",
      "    distances = np.zeros(image[:,:,0].shape)\n",
      "    distances_to_centroids = np.zeros(centroids.shape[0])\n",
      "    \n",
      "    for x in range(image[:,:,0].shape[0]):\n",
      "        for y in range(image[:,:,0].shape[1]):\n",
      "            for c in range(centroids.shape[0]):\n",
      "                distances_to_centroids[c] = np.linalg.norm(image[x,y,:] - centroids[c])\n",
      "            distances[x,y] = distances_to_centroids.min()\n",
      "            \n",
      "    distances = distances - distances.min()\n",
      "    distances = np.divide(distances, distances.max())\n",
      "            \n",
      "    return distances"
     ],
     "language": "python",
     "metadata": {},
     "outputs": [
      {
       "output_type": "stream",
       "stream": "stdout",
       "text": [
        "Populating the interactive namespace from numpy and matplotlib\n",
        "Current base path: /run/media/stefan/FLASH DRIVE\n"
       ]
      },
      {
       "output_type": "stream",
       "stream": "stderr",
       "text": [
        "WARNING: pylab import has clobbered these variables: ['median']\n",
        "`%matplotlib` prevents importing * from pylab and numpy\n"
       ]
      }
     ],
     "prompt_number": 3
    },
    {
     "cell_type": "code",
     "collapsed": false,
     "input": [
      "files = [\n",
      "    {\n",
      "        'description': 'Mischief Number 2',\n",
      "        'filename': 'MiZ08-465R_9.JPG',\n",
      "    },\n",
      "    {\n",
      "        'description': 'Low Contrast',\n",
      "        'filename': 'GSR2013-9L.JPG',\n",
      "    },\n",
      "    {\n",
      "        'description': 'Low Contrast with Corrosion',\n",
      "        'filename': 'GSR2013-44L.JPG',\n",
      "    },\n",
      "    {\n",
      "        'description': 'Very Low Contrast, with Hole',\n",
      "        'filename': 'MiZ08-465L_11.JPG',\n",
      "    },\n",
      "    {\n",
      "        'description': 'Good Contrast, Blue Background',\n",
      "        'filename': 'G\u00d6_3_2000_3_L.JPG',\n",
      "    },\n",
      "    {\n",
      "        'description': 'Dark Bone with Texture',\n",
      "        'filename': 'G\u00d6_i_2000_1_L.JPG',\n",
      "    },\n",
      "    {\n",
      "        'description': 'Dark Bone',\n",
      "        'filename': 'G\u00d6_p_2013_188L.JPG',\n",
      "    },\n",
      "    {\n",
      "        'description': 'Didnt work last time',\n",
      "        'filename': 'G\u00d6_3_2012_421_R.JPG',\n",
      "    }\n",
      "]\n",
      "\n",
      "file = files[0]\n",
      "\n",
      "start_time = time()\n",
      "rgb_image = img_as_float(io.imread(DATA_PATH + file['filename']))\n",
      "hsv_image = img_as_float(color.rgb2hsv(rgb_image))\n",
      "xyz_image = img_as_float(color.rgb2xyz(rgb_image))\n",
      "hsv_image[:,:,1] = xyz_image[:,:,2]\n",
      "hsv_image[:,:,2] = rgb_image[:,:,2]\n",
      "print('{0} imread: {1}s'.format(file['filename'], time() - start_time))\n",
      "\n",
      "start_time = time()\n",
      "certain_bone_pixels = calculate_certain_bone_pixels(rgb_image)\n",
      "print('{0} certain_bone_pixels: {1}s'.format(file['filename'], time() - start_time))\n",
      "\n",
      "start_time = time()\n",
      "centroids = cluster_centroids_in_certain_bone_pixels(hsv_image, certain_bone_pixels)\n",
      "print('{0} centroids: {1}s'.format(file['filename'], time() - start_time))\n",
      "\n",
      "start_time = time()\n",
      "min_distances_to_any_cluster  = calculate_min_distance_to_any_cluster(hsv_image, centroids)\n",
      "print('{0} min_distances_to_any_cluster: {1}s'.format(file['filename'], time() - start_time))\n",
      "\n",
      "watershed_config = np.copy(rgb_image)\n",
      "watershed_config[:,:,0][certain_bone_pixels] = 1\n",
      "\n",
      "fig, ax = plt.subplots(1, 4)\n",
      "\n",
      "ax[0].imshow(rgb_image)\n",
      "ax[0].set_title(\"RGB\")\n",
      "ax[1].imshow(color.gray2rgb(watershed_config))\n",
      "ax[1].set_title(\"Certain Bone\")\n",
      "ax[2].imshow(color.gray2rgb(min_distances_to_any_cluster))\n",
      "ax[2].set_title(\"Distance to any bone cluster\")"
     ],
     "language": "python",
     "metadata": {},
     "outputs": [
      {
       "output_type": "stream",
       "stream": "stdout",
       "text": [
        "MiZ08-465R_9.JPG imread: 1.7344751358032227s\n",
        "MiZ08-465R_9.JPG certain_bone_pixels: 0.0006394386291503906s\n",
        "(3, 3)"
       ]
      },
      {
       "output_type": "stream",
       "stream": "stdout",
       "text": [
        "\n",
        "MiZ08-465R_9.JPG centroids: 0.7828009128570557s\n",
        "MiZ08-465R_9.JPG min_distances_to_any_cluster: 134.17788124084473s"
       ]
      },
      {
       "output_type": "stream",
       "stream": "stdout",
       "text": [
        "\n"
       ]
      },
      {
       "metadata": {},
       "output_type": "pyout",
       "prompt_number": 4,
       "text": [
        "<matplotlib.text.Text at 0x7f603e017828>"
       ]
      }
     ],
     "prompt_number": 4
    },
    {
     "cell_type": "code",
     "collapsed": false,
     "input": [],
     "language": "python",
     "metadata": {},
     "outputs": []
    }
   ],
   "metadata": {}
  }
 ]
}