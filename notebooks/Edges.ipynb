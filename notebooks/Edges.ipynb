{
 "metadata": {
  "name": "",
  "signature": "sha256:e27ffac27a74c2dcb9ca6530a8437d52be695b1e30cbc0bc1552860c0a0f6383"
 },
 "nbformat": 3,
 "nbformat_minor": 0,
 "worksheets": [
  {
   "cells": [
    {
     "cell_type": "code",
     "collapsed": false,
     "input": [
      "%pylab tk\n",
      "%load_ext cythonmagic\n",
      "\n",
      "import mahotas as mh\n",
      "import numpy as np\n",
      "import os\n",
      "import cv2\n",
      "import json\n",
      "from time import time\n",
      "from skimage import io, color, img_as_ubyte\n",
      "from skimage.morphology import disk\n",
      "from skimage import filter\n",
      "\n",
      "BASE_PATH = os.getcwd()\n",
      "print(\"Current base path: {0}\".format(BASE_PATH))\n",
      "DATA_PATH = BASE_PATH + '/Daten/2D/Talus_dorsal_cut_2/'\n",
      "TO_PATH = BASE_PATH + '/Daten/2D/Talus_dorsal_outlined/'\n",
      "TEST_FILES = json.loads(open(BASE_PATH + '/Daten/2D/testfiles.json').read())"
     ],
     "language": "python",
     "metadata": {},
     "outputs": [
      {
       "output_type": "stream",
       "stream": "stdout",
       "text": [
        "Populating the interactive namespace from numpy and matplotlib\n",
        "The cythonmagic extension is already loaded. To reload it, use:\n",
        "  %reload_ext cythonmagic\n",
        "Current base path: /media/lau/FLASH DRIVE\n"
       ]
      }
     ],
     "prompt_number": 44
    },
    {
     "cell_type": "code",
     "collapsed": false,
     "input": [
      "file = TEST_FILES[2]\n",
      "ascii_filename = file['filename'].encode('ascii', 'replace')\n",
      "\n",
      "ALGORITHM = filter.canny\n",
      "#ALGORITHM = filter.prewitt\n",
      "#ALGORITHM = filter.roberts\n",
      "#ALGORITHM = filter.scharr\n",
      "#ALGORITHM = filter.sobel\n",
      "\n",
      "start_time = time()\n",
      "rgb_image = io.imread(DATA_PATH + file['filename'])\n",
      "rgb_image = img_as_ubyte(rescale(rgb_image, 0.1))\n",
      "print('{0} imread: {1}s'.format(ascii_filename, time() - start_time))\n",
      "\n",
      "start_time = time()\n",
      "rgb_image[:,:,0] = filter.rank.sum(rgb_image[:,:,0], disk(5))\n",
      "rgb_image[:,:,1] = filter.rank.sum(rgb_image[:,:,1], disk(5))\n",
      "rgb_image[:,:,2] = filter.rank.sum(rgb_image[:,:,2], disk(5))\n",
      "print('{0} filter: {1}s'.format(ascii_filename, time() - start_time))\n",
      "\n",
      "start_time = time()\n",
      "edges_0 = ALGORITHM(rgb_image[:,:,0])\n",
      "edges_1 = ALGORITHM(rgb_image[:,:,1])\n",
      "edges_2 = ALGORITHM(rgb_image[:,:,2])\n",
      "print('{0} edges: {1}s'.format(ascii_filename, time() - start_time))\n",
      "\n",
      "summed_edges = np.add(np.add(edges_0, edges_1), edges_2)\n",
      "summed_edges = np.subtract(summed_edges, summed_edges.min())\n",
      "summed_edges[summed_edges < 0] = 0\n",
      "summed_edges = np.divide(summed_edges, summed_edges.max())\n",
      "\n",
      "fig, ax = plt.subplots(1, 5)\n",
      "\n",
      "ax[0].imshow(rgb_image)\n",
      "ax[0].set_title(\"{0} RGB\".format(file['description']))\n",
      "ax[1].imshow(edges_0)\n",
      "ax[1].set_title(\"Edges 0\")\n",
      "ax[2].imshow(edges_1)\n",
      "ax[2].set_title(\"Edges 1\")\n",
      "ax[3].imshow(edges_2)\n",
      "ax[3].set_title(\"Edges 2\")\n",
      "ax[4].imshow(summed_edges)\n",
      "ax[4].set_title(\"Summed\")"
     ],
     "language": "python",
     "metadata": {},
     "outputs": [
      {
       "output_type": "stream",
       "stream": "stdout",
       "text": [
        "MiZ08-465L_11.JPG imread: 0.0870568752289s\n",
        "MiZ08-465L_11.JPG filter: 0.0193858146667s\n",
        "MiZ08-465L_11.JPG edges: 0.00996899604797s\n"
       ]
      },
      {
       "output_type": "stream",
       "stream": "stderr",
       "text": [
        "-c:34: RuntimeWarning: divide by zero encountered in divide\n"
       ]
      },
      {
       "metadata": {},
       "output_type": "pyout",
       "prompt_number": 75,
       "text": [
        "<matplotlib.text.Text at 0x7fcc7e574c50>"
       ]
      }
     ],
     "prompt_number": 75
    },
    {
     "cell_type": "code",
     "collapsed": false,
     "input": [],
     "language": "python",
     "metadata": {},
     "outputs": []
    }
   ],
   "metadata": {}
  }
 ]
}