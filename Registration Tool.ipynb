{
 "cells": [
  {
   "cell_type": "code",
   "execution_count": 59,
   "metadata": {
    "collapsed": false
   },
   "outputs": [
    {
     "name": "stdout",
     "output_type": "stream",
     "text": [
      "Populating the interactive namespace from numpy and matplotlib\n",
      "Current base path: /home/stefan/Dropbox/Masterarbeit\n"
     ]
    }
   ],
   "source": [
    "%pylab qt\n",
    "\n",
    "import cPickle as pickle\n",
    "import os\n",
    "import numpy as np\n",
    "from glob import glob\n",
    "\n",
    "import helpers.classes as ch\n",
    "import helpers.features as fh\n",
    "import helpers.display as dh\n",
    "import helpers.geometry as gh\n",
    "import helpers.loading as lh\n",
    "import helpers.windows as wh\n",
    "reload(wh)\n",
    "reload(ch)\n",
    "reload(fh)\n",
    "reload(dh)\n",
    "reload(gh)\n",
    "reload(lh)\n",
    "import algorithms.registration as ar\n",
    "reload(ar)\n",
    "\n",
    "BASE_PATH = os.getcwd()\n",
    "print(\"Current base path: {0}\".format(BASE_PATH))\n",
    "DATA_PATH = BASE_PATH + '/Daten/2D/Talus_dorsal_mesh_2/'\n",
    "TO_PATH = BASE_PATH + '/Daten/2D/Talus_dorsal_filtered_and_registered_outline_4/'\n",
    "\n",
    "ESTIMATORS = [\n",
    "    {\n",
    "        'label': 'Procrustes',\n",
    "        'fn': ar.procrustes\n",
    "    },\n",
    "    {\n",
    "        'label': 'Affine',\n",
    "        'fn': ar.affine\n",
    "    },\n",
    "    {\n",
    "        'label': 'Similarity',\n",
    "        'fn': ar.similarity\n",
    "    },\n",
    "    {\n",
    "        'label': 'Projective',\n",
    "        'fn': ar.projective\n",
    "    }\n",
    "]\n",
    "REFERENCE_ESTIMATORS = [\n",
    "    {\n",
    "        'label': 'Extract landmarks by angle',\n",
    "        'fn': ar.get_marker_using_angles_estimator\n",
    "    },\n",
    "    {\n",
    "        'label': 'Extract landmarks using space partitioning',\n",
    "        'fn': ar.get_marker_using_space_partitioning_estimator\n",
    "    },\n",
    "    {\n",
    "        'label': 'Evaluated Spline Points',\n",
    "        'fn': ar.get_spline_points_estimator\n",
    "    },\n",
    "    {\n",
    "        'label': 'Nearest neighbors',\n",
    "        'fn': ar.get_nearest_neighbor_point_estimator\n",
    "    }\n",
    "]"
   ]
  },
  {
   "cell_type": "code",
   "execution_count": 12,
   "metadata": {
    "collapsed": false
   },
   "outputs": [],
   "source": [
    "def normalize_outline(outline):\n",
    "    outline_points, outline_edges = gh.extract_outline(outline['points'], outline['simplices'])\n",
    "    outline_points, outline_edges = gh.normalize_outline(outline_points, outline_edges)\n",
    "    outline['points'] = outline_points\n",
    "    return outline\n",
    "loaded = lh.load_files(DATA_PATH)\n",
    "loaded = map(normalize_outline, loaded)"
   ]
  },
  {
   "cell_type": "code",
   "execution_count": 60,
   "metadata": {
    "collapsed": false
   },
   "outputs": [
    {
     "name": "stdout",
     "output_type": "stream",
     "text": [
      "(0.12720948744782057, [0.9019607843137255, 0.6549019607843137, 0.0])\n",
      "(0.6393985829907868, [0.0, 0.0392156862745098, 0.9019607843137255])\n",
      "(0.6795235303110215, [0.00784313725490196, 0.0, 0.9019607843137255])\n",
      "(0.6807624564265576, [0.011764705882352941, 0.0, 0.9019607843137255])\n",
      "(0.6391314017200127, [0.0, 0.0392156862745098, 0.9019607843137255])\n",
      "(0.6770991919228045, [0.00784313725490196, 0.0, 0.9019607843137255])\n",
      "(0.15326007363103583, [0.9019607843137255, 0.8352941176470589, 0.0])\n",
      "(0.6806076614514021, [0.011764705882352941, 0.0, 0.9019607843137255])\n",
      "(0.1585534683572219, [0.9019607843137255, 0.8549019607843137, 0.0])\n",
      "(0.13424358398416653, [0.9019607843137255, 0.7098039215686275, 0.0])\n",
      "(0.14428439818308242, [0.9019607843137255, 0.7647058823529411, 0.0])\n",
      "(0.1586941689428764, [0.9019607843137255, 0.8549019607843137, 0.0])\n",
      "(0.6626431714619715, [0.0, 0.0, 0.9019607843137255])\n",
      "(0.13048168923861664, [0.9019607843137255, 0.6823529411764706, 0.0])\n",
      "(0.16551568457786342, [0.9019607843137255, 0.8941176470588236, 0.0])\n",
      "(0.66902052161228, [0.0, 0.0, 0.9019607843137255])\n",
      "(0.7162295050908523, [0.13725490196078433, 0.0, 0.9019607843137255])\n",
      "(0.2020976675525612, [0.7098039215686275, 0.9019607843137255, 0.0])\n",
      "(0.13247030978424157, [0.9019607843137255, 0.6823529411764706, 0.0])\n",
      "(0.1438072185206609, [0.9019607843137255, 0.7647058823529411, 0.0])\n",
      "(0.6780902959454477, [0.00784313725490196, 0.0, 0.9019607843137255])\n",
      "(0.6335592292616274, [0.0, 0.054901960784313725, 0.9019607843137255])\n",
      "(0.711785962070908, [0.11764705882352941, 0.0, 0.9019607843137255])\n",
      "(0.6963420973233395, [0.054901960784313725, 0.0, 0.9019607843137255])\n",
      "(0.6817771601544153, [0.011764705882352941, 0.0, 0.9019607843137255])\n",
      "(0.21830162292429867, [0.6, 0.9019607843137255, 0.0])\n",
      "(0.21181247694154595, [0.6274509803921569, 0.9019607843137255, 0.0])\n",
      "(0.181385423665205, [0.8352941176470589, 0.9019607843137255, 0.0])\n",
      "(0.19444073720118277, [0.7647058823529411, 0.9019607843137255, 0.0])\n",
      "(0.64185796274664, [0.0, 0.027450980392156862, 0.9019607843137255])\n",
      "(0.6373145509624817, [0.0, 0.0392156862745098, 0.9019607843137255])\n",
      "(0.1829916618088091, [0.8352941176470589, 0.9019607843137255, 0.0])\n",
      "(0.6943961750881008, [0.0392156862745098, 0.0, 0.9019607843137255])\n",
      "(0.12031536700865432, [0.9019607843137255, 0.6, 0.0])\n",
      "(0.6298977314957119, [0.0, 0.06666666666666667, 0.9019607843137255])\n",
      "(0.6608158068518787, [0.0, 0.0, 0.9019607843137255])\n",
      "(0.15073682082703277, [0.9019607843137255, 0.8117647058823529, 0.0])\n",
      "(0.15644829732169246, [0.9019607843137255, 0.8549019607843137, 0.0])\n",
      "(0.2087006651506409, [0.6549019607843137, 0.9019607843137255, 0.0])\n",
      "(0.6793872386062516, [0.00784313725490196, 0.0, 0.9019607843137255])\n"
     ]
    }
   ],
   "source": [
    "dh.registration(\n",
    "    loaded,\n",
    "    register_fn=ar.estimate_transform,\n",
    "    estimators=ESTIMATORS,\n",
    "    reference_estimators=REFERENCE_ESTIMATORS\n",
    ")"
   ]
  },
  {
   "cell_type": "code",
   "execution_count": null,
   "metadata": {
    "collapsed": true
   },
   "outputs": [],
   "source": []
  }
 ],
 "metadata": {
  "kernelspec": {
   "display_name": "Python 2",
   "language": "python",
   "name": "python2"
  },
  "language_info": {
   "codemirror_mode": {
    "name": "ipython",
    "version": 2
   },
   "file_extension": ".py",
   "mimetype": "text/x-python",
   "name": "python",
   "nbconvert_exporter": "python",
   "pygments_lexer": "ipython2",
   "version": "2.7.9"
  }
 },
 "nbformat": 4,
 "nbformat_minor": 0
}
