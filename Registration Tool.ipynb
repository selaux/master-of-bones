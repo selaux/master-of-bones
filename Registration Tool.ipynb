{
 "cells": [
  {
   "cell_type": "code",
   "execution_count": 30,
   "metadata": {
    "collapsed": false
   },
   "outputs": [
    {
     "name": "stdout",
     "output_type": "stream",
     "text": [
      "Populating the interactive namespace from numpy and matplotlib\n",
      "Current base path: /home/stefan/Dropbox/Masterarbeit\n"
     ]
    }
   ],
   "source": [
    "%pylab qt\n",
    "\n",
    "import cPickle as pickle\n",
    "import os\n",
    "import numpy as np\n",
    "from glob import glob\n",
    "\n",
    "import helpers.classes as ch\n",
    "import helpers.features as fh\n",
    "import helpers.display as dh\n",
    "import helpers.geometry as gh\n",
    "import helpers.loading as lh\n",
    "import helpers.windows as wh\n",
    "reload(wh)\n",
    "reload(ch)\n",
    "reload(fh)\n",
    "reload(dh)\n",
    "reload(gh)\n",
    "reload(lh)\n",
    "import algorithms.registration as ar\n",
    "reload(ar)\n",
    "\n",
    "BASE_PATH = os.getcwd()\n",
    "print(\"Current base path: {0}\".format(BASE_PATH))\n",
    "DATA_PATH = BASE_PATH + '/Daten/2D/Talus_dorsal_mesh_2/'\n",
    "TO_PATH = BASE_PATH + '/Daten/2D/Talus_dorsal_filtered_and_registered_outline_4/'\n",
    "\n",
    "ESTIMATORS = [\n",
    "    {\n",
    "        'label': 'Procrustes',\n",
    "        'fn': ar.procrustes\n",
    "    },\n",
    "    {\n",
    "        'label': 'Affine',\n",
    "        'fn': ar.affine\n",
    "    },\n",
    "    {\n",
    "        'label': 'Similarity',\n",
    "        'fn': ar.similarity\n",
    "    },\n",
    "    {\n",
    "        'label': 'Projective',\n",
    "        'fn': ar.projective\n",
    "    }\n",
    "]\n",
    "REFERENCE_ESTIMATORS = [\n",
    "    {\n",
    "        'label': 'Extract landmarks by angle',\n",
    "        'fn': ar.get_marker_using_angles_estimator\n",
    "    },\n",
    "    {\n",
    "        'label': 'Extract landmarks using space partitioning',\n",
    "        'fn': ar.get_marker_using_space_partitioning_estimator\n",
    "    },\n",
    "    {\n",
    "        'label': 'Use manually set markers',\n",
    "        'fn': ar.get_manual_markers\n",
    "    },\n",
    "    {\n",
    "        'label': 'Use manually set markers (5-9 only)',\n",
    "        'fn': ar.get_manual_markers_5_to_9\n",
    "    },\n",
    "    {\n",
    "        'label': 'Evaluated Spline Points',\n",
    "        'fn': ar.get_spline_points_estimator\n",
    "    },\n",
    "    {\n",
    "        'label': 'Nearest neighbors',\n",
    "        'fn': ar.get_nearest_neighbor_point_estimator\n",
    "    }\n",
    "]"
   ]
  },
  {
   "cell_type": "code",
   "execution_count": 22,
   "metadata": {
    "collapsed": false
   },
   "outputs": [],
   "source": [
    "def normalize_outline(outline):\n",
    "    outline['points'], outline['edges'] = gh.extract_outline(outline['points'], outline['simplices'])\n",
    "    gh.normalize_outline_with_markers(outline)\n",
    "    return outline\n",
    "loaded = lh.load_files(DATA_PATH)\n",
    "loaded = map(normalize_outline, loaded)"
   ]
  },
  {
   "cell_type": "code",
   "execution_count": 31,
   "metadata": {
    "collapsed": false
   },
   "outputs": [],
   "source": [
    "dh.registration(\n",
    "    loaded,\n",
    "    register_fn=ar.estimate_transform,\n",
    "    estimators=ESTIMATORS,\n",
    "    reference_estimators=REFERENCE_ESTIMATORS\n",
    ")"
   ]
  },
  {
   "cell_type": "code",
   "execution_count": null,
   "metadata": {
    "collapsed": true
   },
   "outputs": [],
   "source": []
  }
 ],
 "metadata": {
  "kernelspec": {
   "display_name": "Python 2",
   "language": "python",
   "name": "python2"
  },
  "language_info": {
   "codemirror_mode": {
    "name": "ipython",
    "version": 2
   },
   "file_extension": ".py",
   "mimetype": "text/x-python",
   "name": "python",
   "nbconvert_exporter": "python",
   "pygments_lexer": "ipython2",
   "version": "2.7.9"
  }
 },
 "nbformat": 4,
 "nbformat_minor": 0
}
