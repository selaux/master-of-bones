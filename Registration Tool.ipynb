{
 "cells": [
  {
   "cell_type": "code",
   "execution_count": 1,
   "metadata": {
    "collapsed": false
   },
   "outputs": [
    {
     "name": "stdout",
     "output_type": "stream",
     "text": [
      "Populating the interactive namespace from numpy and matplotlib\n",
      "Current base path: /home/stefan/Dropbox/Masterarbeit\n"
     ]
    }
   ],
   "source": [
    "%pylab qt\n",
    "\n",
    "import cPickle as pickle\n",
    "import os\n",
    "import numpy as np\n",
    "from glob import glob\n",
    "\n",
    "import helpers.classes as ch\n",
    "import helpers.features as fh\n",
    "import helpers.display as dh\n",
    "import helpers.geometry as gh\n",
    "import helpers.loading as lh\n",
    "import helpers.windows as wh\n",
    "reload(wh)\n",
    "reload(ch)\n",
    "reload(fh)\n",
    "reload(dh)\n",
    "reload(gh)\n",
    "reload(lh)\n",
    "import algorithms.registration as ar\n",
    "reload(ar)\n",
    "\n",
    "BASE_PATH = os.getcwd()\n",
    "print(\"Current base path: {0}\".format(BASE_PATH))\n",
    "DATA_PATH = BASE_PATH + '/Daten/2D/Talus_dorsal_mesh_2/'\n",
    "TO_PATH = BASE_PATH + '/Daten/2D/Talus_dorsal_registered_outline_new/'\n",
    "\n",
    "ESTIMATORS = [\n",
    "    {\n",
    "        'label': 'Procrustes',\n",
    "        'fn': ar.procrustes\n",
    "    },\n",
    "    {\n",
    "        'label': 'Affine',\n",
    "        'fn': ar.affine\n",
    "    },\n",
    "    {\n",
    "        'label': 'Similarity',\n",
    "        'fn': ar.similarity\n",
    "    },\n",
    "    {\n",
    "        'label': 'Projective',\n",
    "        'fn': ar.projective\n",
    "    }\n",
    "]\n",
    "REFERENCE_ESTIMATORS = [\n",
    "    {\n",
    "        'label': 'Extract landmarks by angle',\n",
    "        'fn': ar.get_marker_using_angles_estimator\n",
    "    },\n",
    "    {\n",
    "        'label': 'Extract landmarks using space partitioning',\n",
    "        'fn': ar.get_marker_using_space_partitioning_estimator\n",
    "    },\n",
    "    {\n",
    "        'label': 'Use manually set markers',\n",
    "        'fn': ar.get_manual_markers\n",
    "    },\n",
    "    {\n",
    "        'label': 'Use manually set markers (5-9 only)',\n",
    "        'fn': ar.get_manual_markers_5_to_9\n",
    "    },\n",
    "    {\n",
    "        'label': 'Evaluated Spline Points',\n",
    "        'fn': ar.get_spline_points_estimator\n",
    "    },\n",
    "    {\n",
    "        'label': 'Nearest neighbors',\n",
    "        'fn': ar.get_nearest_neighbor_point_estimator\n",
    "    }\n",
    "]"
   ]
  },
  {
   "cell_type": "code",
   "execution_count": 2,
   "metadata": {
    "collapsed": false
   },
   "outputs": [
    {
     "name": "stderr",
     "output_type": "stream",
     "text": [
      "helpers/geometry.py:94: FutureWarning: comparison to `None` will result in an elementwise object comparison in the future.\n",
      "  if not None in markers:\n"
     ]
    }
   ],
   "source": [
    "def normalize_outline(outline):\n",
    "    outline['points'], outline['edges'] = gh.extract_outline(outline['points'], outline['simplices'])\n",
    "    gh.normalize_outline_with_markers(outline)\n",
    "    return outline\n",
    "loaded = lh.load_files(DATA_PATH)\n",
    "loaded = map(normalize_outline, loaded)"
   ]
  },
  {
   "cell_type": "code",
   "execution_count": 3,
   "metadata": {
    "collapsed": false
   },
   "outputs": [],
   "source": [
    "window = dh.registration(\n",
    "    loaded,\n",
    "    register_fn=ar.estimate_transform,\n",
    "    estimators=ESTIMATORS,\n",
    "    reference_estimators=REFERENCE_ESTIMATORS\n",
    ")"
   ]
  },
  {
   "cell_type": "code",
   "execution_count": 8,
   "metadata": {
    "collapsed": false
   },
   "outputs": [],
   "source": [
    "def get_save_format(outline):\n",
    "    num_points = outline['registered'].shape[0]\n",
    "    edges = np.zeros((num_points, 2))\n",
    "    edges[:, 0] = range(0, num_points)\n",
    "    edges[:, -1] = range(1, num_points+1)\n",
    "    edges[-1, 1] = 0\n",
    "    markers = dict([(i,outline['registered_markers'][i-1,:]) for i in range(1, 12)])\n",
    "    \n",
    "    outline_to_save = {\n",
    "        'filename': outline['filename'],\n",
    "        'done': True,\n",
    "        'points': outline['registered'],\n",
    "        'markers': markers,\n",
    "        'edges': edges\n",
    "    }\n",
    "    \n",
    "    gh.normalize_outline_with_markers(outline_to_save)\n",
    "    \n",
    "    return outline_to_save\n",
    "lh.save_files(TO_PATH, map(get_save_format, window.bones))"
   ]
  },
  {
   "cell_type": "code",
   "execution_count": null,
   "metadata": {
    "collapsed": true
   },
   "outputs": [],
   "source": []
  }
 ],
 "metadata": {
  "kernelspec": {
   "display_name": "Python 2",
   "language": "python",
   "name": "python2"
  },
  "language_info": {
   "codemirror_mode": {
    "name": "ipython",
    "version": 2
   },
   "file_extension": ".py",
   "mimetype": "text/x-python",
   "name": "python",
   "nbconvert_exporter": "python",
   "pygments_lexer": "ipython2",
   "version": "2.7.9"
  }
 },
 "nbformat": 4,
 "nbformat_minor": 0
}
